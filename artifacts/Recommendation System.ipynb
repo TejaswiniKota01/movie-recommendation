{
 "cells": [
  {
   "cell_type": "code",
   "execution_count": 9,
   "id": "c49973f7-2e22-4294-b220-6c8868bf4939",
   "metadata": {},
   "outputs": [],
   "source": [
    "import numpy as np\n",
    "import pandas as pd\n",
    "import matplotlib.pyplot as plt\n",
    "import os "
   ]
  },
  {
   "cell_type": "code",
   "execution_count": 10,
   "id": "8287152b-5a60-4672-bf62-4125cd58028c",
   "metadata": {},
   "outputs": [],
   "source": [
    "movies = pd.read_csv(\"Movie Recommendation System/archive (1)/tmdb_5000_movies.csv\")\n",
    "credits = pd.read_csv(\"Movie Recommendation System/archive (1)/tmdb_5000_credits.csv\")"
   ]
  },
  {
   "cell_type": "code",
   "execution_count": 11,
   "id": "98675853-13cb-4e1f-87e0-91a996e07933",
   "metadata": {},
   "outputs": [
    {
     "data": {
      "text/html": [
       "<div>\n",
       "<style scoped>\n",
       "    .dataframe tbody tr th:only-of-type {\n",
       "        vertical-align: middle;\n",
       "    }\n",
       "\n",
       "    .dataframe tbody tr th {\n",
       "        vertical-align: top;\n",
       "    }\n",
       "\n",
       "    .dataframe thead th {\n",
       "        text-align: right;\n",
       "    }\n",
       "</style>\n",
       "<table border=\"1\" class=\"dataframe\">\n",
       "  <thead>\n",
       "    <tr style=\"text-align: right;\">\n",
       "      <th></th>\n",
       "      <th>budget</th>\n",
       "      <th>genres</th>\n",
       "      <th>homepage</th>\n",
       "      <th>id</th>\n",
       "      <th>keywords</th>\n",
       "      <th>original_language</th>\n",
       "      <th>original_title</th>\n",
       "      <th>overview</th>\n",
       "      <th>popularity</th>\n",
       "      <th>production_companies</th>\n",
       "      <th>production_countries</th>\n",
       "      <th>release_date</th>\n",
       "      <th>revenue</th>\n",
       "      <th>runtime</th>\n",
       "      <th>spoken_languages</th>\n",
       "      <th>status</th>\n",
       "      <th>tagline</th>\n",
       "      <th>title</th>\n",
       "      <th>vote_average</th>\n",
       "      <th>vote_count</th>\n",
       "    </tr>\n",
       "  </thead>\n",
       "  <tbody>\n",
       "    <tr>\n",
       "      <th>0</th>\n",
       "      <td>237000000</td>\n",
       "      <td>[{\"id\": 28, \"name\": \"Action\"}, {\"id\": 12, \"nam...</td>\n",
       "      <td>http://www.avatarmovie.com/</td>\n",
       "      <td>19995</td>\n",
       "      <td>[{\"id\": 1463, \"name\": \"culture clash\"}, {\"id\":...</td>\n",
       "      <td>en</td>\n",
       "      <td>Avatar</td>\n",
       "      <td>In the 22nd century, a paraplegic Marine is di...</td>\n",
       "      <td>150.437577</td>\n",
       "      <td>[{\"name\": \"Ingenious Film Partners\", \"id\": 289...</td>\n",
       "      <td>[{\"iso_3166_1\": \"US\", \"name\": \"United States o...</td>\n",
       "      <td>2009-12-10</td>\n",
       "      <td>2787965087</td>\n",
       "      <td>162.0</td>\n",
       "      <td>[{\"iso_639_1\": \"en\", \"name\": \"English\"}, {\"iso...</td>\n",
       "      <td>Released</td>\n",
       "      <td>Enter the World of Pandora.</td>\n",
       "      <td>Avatar</td>\n",
       "      <td>7.2</td>\n",
       "      <td>11800</td>\n",
       "    </tr>\n",
       "    <tr>\n",
       "      <th>1</th>\n",
       "      <td>300000000</td>\n",
       "      <td>[{\"id\": 12, \"name\": \"Adventure\"}, {\"id\": 14, \"...</td>\n",
       "      <td>http://disney.go.com/disneypictures/pirates/</td>\n",
       "      <td>285</td>\n",
       "      <td>[{\"id\": 270, \"name\": \"ocean\"}, {\"id\": 726, \"na...</td>\n",
       "      <td>en</td>\n",
       "      <td>Pirates of the Caribbean: At World's End</td>\n",
       "      <td>Captain Barbossa, long believed to be dead, ha...</td>\n",
       "      <td>139.082615</td>\n",
       "      <td>[{\"name\": \"Walt Disney Pictures\", \"id\": 2}, {\"...</td>\n",
       "      <td>[{\"iso_3166_1\": \"US\", \"name\": \"United States o...</td>\n",
       "      <td>2007-05-19</td>\n",
       "      <td>961000000</td>\n",
       "      <td>169.0</td>\n",
       "      <td>[{\"iso_639_1\": \"en\", \"name\": \"English\"}]</td>\n",
       "      <td>Released</td>\n",
       "      <td>At the end of the world, the adventure begins.</td>\n",
       "      <td>Pirates of the Caribbean: At World's End</td>\n",
       "      <td>6.9</td>\n",
       "      <td>4500</td>\n",
       "    </tr>\n",
       "  </tbody>\n",
       "</table>\n",
       "</div>"
      ],
      "text/plain": [
       "      budget                                             genres  \\\n",
       "0  237000000  [{\"id\": 28, \"name\": \"Action\"}, {\"id\": 12, \"nam...   \n",
       "1  300000000  [{\"id\": 12, \"name\": \"Adventure\"}, {\"id\": 14, \"...   \n",
       "\n",
       "                                       homepage     id  \\\n",
       "0                   http://www.avatarmovie.com/  19995   \n",
       "1  http://disney.go.com/disneypictures/pirates/    285   \n",
       "\n",
       "                                            keywords original_language  \\\n",
       "0  [{\"id\": 1463, \"name\": \"culture clash\"}, {\"id\":...                en   \n",
       "1  [{\"id\": 270, \"name\": \"ocean\"}, {\"id\": 726, \"na...                en   \n",
       "\n",
       "                             original_title  \\\n",
       "0                                    Avatar   \n",
       "1  Pirates of the Caribbean: At World's End   \n",
       "\n",
       "                                            overview  popularity  \\\n",
       "0  In the 22nd century, a paraplegic Marine is di...  150.437577   \n",
       "1  Captain Barbossa, long believed to be dead, ha...  139.082615   \n",
       "\n",
       "                                production_companies  \\\n",
       "0  [{\"name\": \"Ingenious Film Partners\", \"id\": 289...   \n",
       "1  [{\"name\": \"Walt Disney Pictures\", \"id\": 2}, {\"...   \n",
       "\n",
       "                                production_countries release_date     revenue  \\\n",
       "0  [{\"iso_3166_1\": \"US\", \"name\": \"United States o...   2009-12-10  2787965087   \n",
       "1  [{\"iso_3166_1\": \"US\", \"name\": \"United States o...   2007-05-19   961000000   \n",
       "\n",
       "   runtime                                   spoken_languages    status  \\\n",
       "0    162.0  [{\"iso_639_1\": \"en\", \"name\": \"English\"}, {\"iso...  Released   \n",
       "1    169.0           [{\"iso_639_1\": \"en\", \"name\": \"English\"}]  Released   \n",
       "\n",
       "                                          tagline  \\\n",
       "0                     Enter the World of Pandora.   \n",
       "1  At the end of the world, the adventure begins.   \n",
       "\n",
       "                                      title  vote_average  vote_count  \n",
       "0                                    Avatar           7.2       11800  \n",
       "1  Pirates of the Caribbean: At World's End           6.9        4500  "
      ]
     },
     "execution_count": 11,
     "metadata": {},
     "output_type": "execute_result"
    }
   ],
   "source": [
    "movies.head(2)"
   ]
  },
  {
   "cell_type": "code",
   "execution_count": 12,
   "id": "1f09e700-dc2d-406a-8b5e-8ba95164a67f",
   "metadata": {},
   "outputs": [
    {
     "data": {
      "text/plain": [
       "(4803, 20)"
      ]
     },
     "execution_count": 12,
     "metadata": {},
     "output_type": "execute_result"
    }
   ],
   "source": [
    "movies.shape"
   ]
  },
  {
   "cell_type": "code",
   "execution_count": 13,
   "id": "d9e5c294-f02c-491c-afee-2cc8f66750d6",
   "metadata": {},
   "outputs": [
    {
     "data": {
      "text/html": [
       "<div>\n",
       "<style scoped>\n",
       "    .dataframe tbody tr th:only-of-type {\n",
       "        vertical-align: middle;\n",
       "    }\n",
       "\n",
       "    .dataframe tbody tr th {\n",
       "        vertical-align: top;\n",
       "    }\n",
       "\n",
       "    .dataframe thead th {\n",
       "        text-align: right;\n",
       "    }\n",
       "</style>\n",
       "<table border=\"1\" class=\"dataframe\">\n",
       "  <thead>\n",
       "    <tr style=\"text-align: right;\">\n",
       "      <th></th>\n",
       "      <th>budget</th>\n",
       "      <th>genres</th>\n",
       "      <th>homepage</th>\n",
       "      <th>id</th>\n",
       "      <th>keywords</th>\n",
       "      <th>original_language</th>\n",
       "      <th>original_title</th>\n",
       "      <th>overview</th>\n",
       "      <th>popularity</th>\n",
       "      <th>production_companies</th>\n",
       "      <th>...</th>\n",
       "      <th>runtime</th>\n",
       "      <th>spoken_languages</th>\n",
       "      <th>status</th>\n",
       "      <th>tagline</th>\n",
       "      <th>title</th>\n",
       "      <th>vote_average</th>\n",
       "      <th>vote_count</th>\n",
       "      <th>movie_id</th>\n",
       "      <th>cast</th>\n",
       "      <th>crew</th>\n",
       "    </tr>\n",
       "  </thead>\n",
       "  <tbody>\n",
       "    <tr>\n",
       "      <th>0</th>\n",
       "      <td>237000000</td>\n",
       "      <td>[{\"id\": 28, \"name\": \"Action\"}, {\"id\": 12, \"nam...</td>\n",
       "      <td>http://www.avatarmovie.com/</td>\n",
       "      <td>19995</td>\n",
       "      <td>[{\"id\": 1463, \"name\": \"culture clash\"}, {\"id\":...</td>\n",
       "      <td>en</td>\n",
       "      <td>Avatar</td>\n",
       "      <td>In the 22nd century, a paraplegic Marine is di...</td>\n",
       "      <td>150.437577</td>\n",
       "      <td>[{\"name\": \"Ingenious Film Partners\", \"id\": 289...</td>\n",
       "      <td>...</td>\n",
       "      <td>162.0</td>\n",
       "      <td>[{\"iso_639_1\": \"en\", \"name\": \"English\"}, {\"iso...</td>\n",
       "      <td>Released</td>\n",
       "      <td>Enter the World of Pandora.</td>\n",
       "      <td>Avatar</td>\n",
       "      <td>7.2</td>\n",
       "      <td>11800</td>\n",
       "      <td>19995</td>\n",
       "      <td>[{\"cast_id\": 242, \"character\": \"Jake Sully\", \"...</td>\n",
       "      <td>[{\"credit_id\": \"52fe48009251416c750aca23\", \"de...</td>\n",
       "    </tr>\n",
       "    <tr>\n",
       "      <th>1</th>\n",
       "      <td>300000000</td>\n",
       "      <td>[{\"id\": 12, \"name\": \"Adventure\"}, {\"id\": 14, \"...</td>\n",
       "      <td>http://disney.go.com/disneypictures/pirates/</td>\n",
       "      <td>285</td>\n",
       "      <td>[{\"id\": 270, \"name\": \"ocean\"}, {\"id\": 726, \"na...</td>\n",
       "      <td>en</td>\n",
       "      <td>Pirates of the Caribbean: At World's End</td>\n",
       "      <td>Captain Barbossa, long believed to be dead, ha...</td>\n",
       "      <td>139.082615</td>\n",
       "      <td>[{\"name\": \"Walt Disney Pictures\", \"id\": 2}, {\"...</td>\n",
       "      <td>...</td>\n",
       "      <td>169.0</td>\n",
       "      <td>[{\"iso_639_1\": \"en\", \"name\": \"English\"}]</td>\n",
       "      <td>Released</td>\n",
       "      <td>At the end of the world, the adventure begins.</td>\n",
       "      <td>Pirates of the Caribbean: At World's End</td>\n",
       "      <td>6.9</td>\n",
       "      <td>4500</td>\n",
       "      <td>285</td>\n",
       "      <td>[{\"cast_id\": 4, \"character\": \"Captain Jack Spa...</td>\n",
       "      <td>[{\"credit_id\": \"52fe4232c3a36847f800b579\", \"de...</td>\n",
       "    </tr>\n",
       "    <tr>\n",
       "      <th>2</th>\n",
       "      <td>245000000</td>\n",
       "      <td>[{\"id\": 28, \"name\": \"Action\"}, {\"id\": 12, \"nam...</td>\n",
       "      <td>http://www.sonypictures.com/movies/spectre/</td>\n",
       "      <td>206647</td>\n",
       "      <td>[{\"id\": 470, \"name\": \"spy\"}, {\"id\": 818, \"name...</td>\n",
       "      <td>en</td>\n",
       "      <td>Spectre</td>\n",
       "      <td>A cryptic message from Bond’s past sends him o...</td>\n",
       "      <td>107.376788</td>\n",
       "      <td>[{\"name\": \"Columbia Pictures\", \"id\": 5}, {\"nam...</td>\n",
       "      <td>...</td>\n",
       "      <td>148.0</td>\n",
       "      <td>[{\"iso_639_1\": \"fr\", \"name\": \"Fran\\u00e7ais\"},...</td>\n",
       "      <td>Released</td>\n",
       "      <td>A Plan No One Escapes</td>\n",
       "      <td>Spectre</td>\n",
       "      <td>6.3</td>\n",
       "      <td>4466</td>\n",
       "      <td>206647</td>\n",
       "      <td>[{\"cast_id\": 1, \"character\": \"James Bond\", \"cr...</td>\n",
       "      <td>[{\"credit_id\": \"54805967c3a36829b5002c41\", \"de...</td>\n",
       "    </tr>\n",
       "    <tr>\n",
       "      <th>3</th>\n",
       "      <td>250000000</td>\n",
       "      <td>[{\"id\": 28, \"name\": \"Action\"}, {\"id\": 80, \"nam...</td>\n",
       "      <td>http://www.thedarkknightrises.com/</td>\n",
       "      <td>49026</td>\n",
       "      <td>[{\"id\": 849, \"name\": \"dc comics\"}, {\"id\": 853,...</td>\n",
       "      <td>en</td>\n",
       "      <td>The Dark Knight Rises</td>\n",
       "      <td>Following the death of District Attorney Harve...</td>\n",
       "      <td>112.312950</td>\n",
       "      <td>[{\"name\": \"Legendary Pictures\", \"id\": 923}, {\"...</td>\n",
       "      <td>...</td>\n",
       "      <td>165.0</td>\n",
       "      <td>[{\"iso_639_1\": \"en\", \"name\": \"English\"}]</td>\n",
       "      <td>Released</td>\n",
       "      <td>The Legend Ends</td>\n",
       "      <td>The Dark Knight Rises</td>\n",
       "      <td>7.6</td>\n",
       "      <td>9106</td>\n",
       "      <td>49026</td>\n",
       "      <td>[{\"cast_id\": 2, \"character\": \"Bruce Wayne / Ba...</td>\n",
       "      <td>[{\"credit_id\": \"52fe4781c3a36847f81398c3\", \"de...</td>\n",
       "    </tr>\n",
       "    <tr>\n",
       "      <th>4</th>\n",
       "      <td>260000000</td>\n",
       "      <td>[{\"id\": 28, \"name\": \"Action\"}, {\"id\": 12, \"nam...</td>\n",
       "      <td>http://movies.disney.com/john-carter</td>\n",
       "      <td>49529</td>\n",
       "      <td>[{\"id\": 818, \"name\": \"based on novel\"}, {\"id\":...</td>\n",
       "      <td>en</td>\n",
       "      <td>John Carter</td>\n",
       "      <td>John Carter is a war-weary, former military ca...</td>\n",
       "      <td>43.926995</td>\n",
       "      <td>[{\"name\": \"Walt Disney Pictures\", \"id\": 2}]</td>\n",
       "      <td>...</td>\n",
       "      <td>132.0</td>\n",
       "      <td>[{\"iso_639_1\": \"en\", \"name\": \"English\"}]</td>\n",
       "      <td>Released</td>\n",
       "      <td>Lost in our world, found in another.</td>\n",
       "      <td>John Carter</td>\n",
       "      <td>6.1</td>\n",
       "      <td>2124</td>\n",
       "      <td>49529</td>\n",
       "      <td>[{\"cast_id\": 5, \"character\": \"John Carter\", \"c...</td>\n",
       "      <td>[{\"credit_id\": \"52fe479ac3a36847f813eaa3\", \"de...</td>\n",
       "    </tr>\n",
       "    <tr>\n",
       "      <th>...</th>\n",
       "      <td>...</td>\n",
       "      <td>...</td>\n",
       "      <td>...</td>\n",
       "      <td>...</td>\n",
       "      <td>...</td>\n",
       "      <td>...</td>\n",
       "      <td>...</td>\n",
       "      <td>...</td>\n",
       "      <td>...</td>\n",
       "      <td>...</td>\n",
       "      <td>...</td>\n",
       "      <td>...</td>\n",
       "      <td>...</td>\n",
       "      <td>...</td>\n",
       "      <td>...</td>\n",
       "      <td>...</td>\n",
       "      <td>...</td>\n",
       "      <td>...</td>\n",
       "      <td>...</td>\n",
       "      <td>...</td>\n",
       "      <td>...</td>\n",
       "    </tr>\n",
       "    <tr>\n",
       "      <th>4804</th>\n",
       "      <td>220000</td>\n",
       "      <td>[{\"id\": 28, \"name\": \"Action\"}, {\"id\": 80, \"nam...</td>\n",
       "      <td>NaN</td>\n",
       "      <td>9367</td>\n",
       "      <td>[{\"id\": 5616, \"name\": \"united states\\u2013mexi...</td>\n",
       "      <td>es</td>\n",
       "      <td>El Mariachi</td>\n",
       "      <td>El Mariachi just wants to play his guitar and ...</td>\n",
       "      <td>14.269792</td>\n",
       "      <td>[{\"name\": \"Columbia Pictures\", \"id\": 5}]</td>\n",
       "      <td>...</td>\n",
       "      <td>81.0</td>\n",
       "      <td>[{\"iso_639_1\": \"es\", \"name\": \"Espa\\u00f1ol\"}]</td>\n",
       "      <td>Released</td>\n",
       "      <td>He didn't come looking for trouble, but troubl...</td>\n",
       "      <td>El Mariachi</td>\n",
       "      <td>6.6</td>\n",
       "      <td>238</td>\n",
       "      <td>9367</td>\n",
       "      <td>[{\"cast_id\": 1, \"character\": \"El Mariachi\", \"c...</td>\n",
       "      <td>[{\"credit_id\": \"52fe44eec3a36847f80b280b\", \"de...</td>\n",
       "    </tr>\n",
       "    <tr>\n",
       "      <th>4805</th>\n",
       "      <td>9000</td>\n",
       "      <td>[{\"id\": 35, \"name\": \"Comedy\"}, {\"id\": 10749, \"...</td>\n",
       "      <td>NaN</td>\n",
       "      <td>72766</td>\n",
       "      <td>[]</td>\n",
       "      <td>en</td>\n",
       "      <td>Newlyweds</td>\n",
       "      <td>A newlywed couple's honeymoon is upended by th...</td>\n",
       "      <td>0.642552</td>\n",
       "      <td>[]</td>\n",
       "      <td>...</td>\n",
       "      <td>85.0</td>\n",
       "      <td>[]</td>\n",
       "      <td>Released</td>\n",
       "      <td>A newlywed couple's honeymoon is upended by th...</td>\n",
       "      <td>Newlyweds</td>\n",
       "      <td>5.9</td>\n",
       "      <td>5</td>\n",
       "      <td>72766</td>\n",
       "      <td>[{\"cast_id\": 1, \"character\": \"Buzzy\", \"credit_...</td>\n",
       "      <td>[{\"credit_id\": \"52fe487dc3a368484e0fb013\", \"de...</td>\n",
       "    </tr>\n",
       "    <tr>\n",
       "      <th>4806</th>\n",
       "      <td>0</td>\n",
       "      <td>[{\"id\": 35, \"name\": \"Comedy\"}, {\"id\": 18, \"nam...</td>\n",
       "      <td>http://www.hallmarkchannel.com/signedsealeddel...</td>\n",
       "      <td>231617</td>\n",
       "      <td>[{\"id\": 248, \"name\": \"date\"}, {\"id\": 699, \"nam...</td>\n",
       "      <td>en</td>\n",
       "      <td>Signed, Sealed, Delivered</td>\n",
       "      <td>\"Signed, Sealed, Delivered\" introduces a dedic...</td>\n",
       "      <td>1.444476</td>\n",
       "      <td>[{\"name\": \"Front Street Pictures\", \"id\": 3958}...</td>\n",
       "      <td>...</td>\n",
       "      <td>120.0</td>\n",
       "      <td>[{\"iso_639_1\": \"en\", \"name\": \"English\"}]</td>\n",
       "      <td>Released</td>\n",
       "      <td>NaN</td>\n",
       "      <td>Signed, Sealed, Delivered</td>\n",
       "      <td>7.0</td>\n",
       "      <td>6</td>\n",
       "      <td>231617</td>\n",
       "      <td>[{\"cast_id\": 8, \"character\": \"Oliver O\\u2019To...</td>\n",
       "      <td>[{\"credit_id\": \"52fe4df3c3a36847f8275ecf\", \"de...</td>\n",
       "    </tr>\n",
       "    <tr>\n",
       "      <th>4807</th>\n",
       "      <td>0</td>\n",
       "      <td>[]</td>\n",
       "      <td>http://shanghaicalling.com/</td>\n",
       "      <td>126186</td>\n",
       "      <td>[]</td>\n",
       "      <td>en</td>\n",
       "      <td>Shanghai Calling</td>\n",
       "      <td>When ambitious New York attorney Sam is sent t...</td>\n",
       "      <td>0.857008</td>\n",
       "      <td>[]</td>\n",
       "      <td>...</td>\n",
       "      <td>98.0</td>\n",
       "      <td>[{\"iso_639_1\": \"en\", \"name\": \"English\"}]</td>\n",
       "      <td>Released</td>\n",
       "      <td>A New Yorker in Shanghai</td>\n",
       "      <td>Shanghai Calling</td>\n",
       "      <td>5.7</td>\n",
       "      <td>7</td>\n",
       "      <td>126186</td>\n",
       "      <td>[{\"cast_id\": 3, \"character\": \"Sam\", \"credit_id...</td>\n",
       "      <td>[{\"credit_id\": \"52fe4ad9c3a368484e16a36b\", \"de...</td>\n",
       "    </tr>\n",
       "    <tr>\n",
       "      <th>4808</th>\n",
       "      <td>0</td>\n",
       "      <td>[{\"id\": 99, \"name\": \"Documentary\"}]</td>\n",
       "      <td>NaN</td>\n",
       "      <td>25975</td>\n",
       "      <td>[{\"id\": 1523, \"name\": \"obsession\"}, {\"id\": 224...</td>\n",
       "      <td>en</td>\n",
       "      <td>My Date with Drew</td>\n",
       "      <td>Ever since the second grade when he first saw ...</td>\n",
       "      <td>1.929883</td>\n",
       "      <td>[{\"name\": \"rusty bear entertainment\", \"id\": 87...</td>\n",
       "      <td>...</td>\n",
       "      <td>90.0</td>\n",
       "      <td>[{\"iso_639_1\": \"en\", \"name\": \"English\"}]</td>\n",
       "      <td>Released</td>\n",
       "      <td>NaN</td>\n",
       "      <td>My Date with Drew</td>\n",
       "      <td>6.3</td>\n",
       "      <td>16</td>\n",
       "      <td>25975</td>\n",
       "      <td>[{\"cast_id\": 3, \"character\": \"Herself\", \"credi...</td>\n",
       "      <td>[{\"credit_id\": \"58ce021b9251415a390165d9\", \"de...</td>\n",
       "    </tr>\n",
       "  </tbody>\n",
       "</table>\n",
       "<p>4809 rows × 23 columns</p>\n",
       "</div>"
      ],
      "text/plain": [
       "         budget                                             genres  \\\n",
       "0     237000000  [{\"id\": 28, \"name\": \"Action\"}, {\"id\": 12, \"nam...   \n",
       "1     300000000  [{\"id\": 12, \"name\": \"Adventure\"}, {\"id\": 14, \"...   \n",
       "2     245000000  [{\"id\": 28, \"name\": \"Action\"}, {\"id\": 12, \"nam...   \n",
       "3     250000000  [{\"id\": 28, \"name\": \"Action\"}, {\"id\": 80, \"nam...   \n",
       "4     260000000  [{\"id\": 28, \"name\": \"Action\"}, {\"id\": 12, \"nam...   \n",
       "...         ...                                                ...   \n",
       "4804     220000  [{\"id\": 28, \"name\": \"Action\"}, {\"id\": 80, \"nam...   \n",
       "4805       9000  [{\"id\": 35, \"name\": \"Comedy\"}, {\"id\": 10749, \"...   \n",
       "4806          0  [{\"id\": 35, \"name\": \"Comedy\"}, {\"id\": 18, \"nam...   \n",
       "4807          0                                                 []   \n",
       "4808          0                [{\"id\": 99, \"name\": \"Documentary\"}]   \n",
       "\n",
       "                                               homepage      id  \\\n",
       "0                           http://www.avatarmovie.com/   19995   \n",
       "1          http://disney.go.com/disneypictures/pirates/     285   \n",
       "2           http://www.sonypictures.com/movies/spectre/  206647   \n",
       "3                    http://www.thedarkknightrises.com/   49026   \n",
       "4                  http://movies.disney.com/john-carter   49529   \n",
       "...                                                 ...     ...   \n",
       "4804                                                NaN    9367   \n",
       "4805                                                NaN   72766   \n",
       "4806  http://www.hallmarkchannel.com/signedsealeddel...  231617   \n",
       "4807                        http://shanghaicalling.com/  126186   \n",
       "4808                                                NaN   25975   \n",
       "\n",
       "                                               keywords original_language  \\\n",
       "0     [{\"id\": 1463, \"name\": \"culture clash\"}, {\"id\":...                en   \n",
       "1     [{\"id\": 270, \"name\": \"ocean\"}, {\"id\": 726, \"na...                en   \n",
       "2     [{\"id\": 470, \"name\": \"spy\"}, {\"id\": 818, \"name...                en   \n",
       "3     [{\"id\": 849, \"name\": \"dc comics\"}, {\"id\": 853,...                en   \n",
       "4     [{\"id\": 818, \"name\": \"based on novel\"}, {\"id\":...                en   \n",
       "...                                                 ...               ...   \n",
       "4804  [{\"id\": 5616, \"name\": \"united states\\u2013mexi...                es   \n",
       "4805                                                 []                en   \n",
       "4806  [{\"id\": 248, \"name\": \"date\"}, {\"id\": 699, \"nam...                en   \n",
       "4807                                                 []                en   \n",
       "4808  [{\"id\": 1523, \"name\": \"obsession\"}, {\"id\": 224...                en   \n",
       "\n",
       "                                original_title  \\\n",
       "0                                       Avatar   \n",
       "1     Pirates of the Caribbean: At World's End   \n",
       "2                                      Spectre   \n",
       "3                        The Dark Knight Rises   \n",
       "4                                  John Carter   \n",
       "...                                        ...   \n",
       "4804                               El Mariachi   \n",
       "4805                                 Newlyweds   \n",
       "4806                 Signed, Sealed, Delivered   \n",
       "4807                          Shanghai Calling   \n",
       "4808                         My Date with Drew   \n",
       "\n",
       "                                               overview  popularity  \\\n",
       "0     In the 22nd century, a paraplegic Marine is di...  150.437577   \n",
       "1     Captain Barbossa, long believed to be dead, ha...  139.082615   \n",
       "2     A cryptic message from Bond’s past sends him o...  107.376788   \n",
       "3     Following the death of District Attorney Harve...  112.312950   \n",
       "4     John Carter is a war-weary, former military ca...   43.926995   \n",
       "...                                                 ...         ...   \n",
       "4804  El Mariachi just wants to play his guitar and ...   14.269792   \n",
       "4805  A newlywed couple's honeymoon is upended by th...    0.642552   \n",
       "4806  \"Signed, Sealed, Delivered\" introduces a dedic...    1.444476   \n",
       "4807  When ambitious New York attorney Sam is sent t...    0.857008   \n",
       "4808  Ever since the second grade when he first saw ...    1.929883   \n",
       "\n",
       "                                   production_companies  ... runtime  \\\n",
       "0     [{\"name\": \"Ingenious Film Partners\", \"id\": 289...  ...   162.0   \n",
       "1     [{\"name\": \"Walt Disney Pictures\", \"id\": 2}, {\"...  ...   169.0   \n",
       "2     [{\"name\": \"Columbia Pictures\", \"id\": 5}, {\"nam...  ...   148.0   \n",
       "3     [{\"name\": \"Legendary Pictures\", \"id\": 923}, {\"...  ...   165.0   \n",
       "4           [{\"name\": \"Walt Disney Pictures\", \"id\": 2}]  ...   132.0   \n",
       "...                                                 ...  ...     ...   \n",
       "4804           [{\"name\": \"Columbia Pictures\", \"id\": 5}]  ...    81.0   \n",
       "4805                                                 []  ...    85.0   \n",
       "4806  [{\"name\": \"Front Street Pictures\", \"id\": 3958}...  ...   120.0   \n",
       "4807                                                 []  ...    98.0   \n",
       "4808  [{\"name\": \"rusty bear entertainment\", \"id\": 87...  ...    90.0   \n",
       "\n",
       "                                       spoken_languages    status  \\\n",
       "0     [{\"iso_639_1\": \"en\", \"name\": \"English\"}, {\"iso...  Released   \n",
       "1              [{\"iso_639_1\": \"en\", \"name\": \"English\"}]  Released   \n",
       "2     [{\"iso_639_1\": \"fr\", \"name\": \"Fran\\u00e7ais\"},...  Released   \n",
       "3              [{\"iso_639_1\": \"en\", \"name\": \"English\"}]  Released   \n",
       "4              [{\"iso_639_1\": \"en\", \"name\": \"English\"}]  Released   \n",
       "...                                                 ...       ...   \n",
       "4804      [{\"iso_639_1\": \"es\", \"name\": \"Espa\\u00f1ol\"}]  Released   \n",
       "4805                                                 []  Released   \n",
       "4806           [{\"iso_639_1\": \"en\", \"name\": \"English\"}]  Released   \n",
       "4807           [{\"iso_639_1\": \"en\", \"name\": \"English\"}]  Released   \n",
       "4808           [{\"iso_639_1\": \"en\", \"name\": \"English\"}]  Released   \n",
       "\n",
       "                                                tagline  \\\n",
       "0                           Enter the World of Pandora.   \n",
       "1        At the end of the world, the adventure begins.   \n",
       "2                                 A Plan No One Escapes   \n",
       "3                                       The Legend Ends   \n",
       "4                  Lost in our world, found in another.   \n",
       "...                                                 ...   \n",
       "4804  He didn't come looking for trouble, but troubl...   \n",
       "4805  A newlywed couple's honeymoon is upended by th...   \n",
       "4806                                                NaN   \n",
       "4807                           A New Yorker in Shanghai   \n",
       "4808                                                NaN   \n",
       "\n",
       "                                         title vote_average vote_count  \\\n",
       "0                                       Avatar          7.2      11800   \n",
       "1     Pirates of the Caribbean: At World's End          6.9       4500   \n",
       "2                                      Spectre          6.3       4466   \n",
       "3                        The Dark Knight Rises          7.6       9106   \n",
       "4                                  John Carter          6.1       2124   \n",
       "...                                        ...          ...        ...   \n",
       "4804                               El Mariachi          6.6        238   \n",
       "4805                                 Newlyweds          5.9          5   \n",
       "4806                 Signed, Sealed, Delivered          7.0          6   \n",
       "4807                          Shanghai Calling          5.7          7   \n",
       "4808                         My Date with Drew          6.3         16   \n",
       "\n",
       "     movie_id                                               cast  \\\n",
       "0       19995  [{\"cast_id\": 242, \"character\": \"Jake Sully\", \"...   \n",
       "1         285  [{\"cast_id\": 4, \"character\": \"Captain Jack Spa...   \n",
       "2      206647  [{\"cast_id\": 1, \"character\": \"James Bond\", \"cr...   \n",
       "3       49026  [{\"cast_id\": 2, \"character\": \"Bruce Wayne / Ba...   \n",
       "4       49529  [{\"cast_id\": 5, \"character\": \"John Carter\", \"c...   \n",
       "...       ...                                                ...   \n",
       "4804     9367  [{\"cast_id\": 1, \"character\": \"El Mariachi\", \"c...   \n",
       "4805    72766  [{\"cast_id\": 1, \"character\": \"Buzzy\", \"credit_...   \n",
       "4806   231617  [{\"cast_id\": 8, \"character\": \"Oliver O\\u2019To...   \n",
       "4807   126186  [{\"cast_id\": 3, \"character\": \"Sam\", \"credit_id...   \n",
       "4808    25975  [{\"cast_id\": 3, \"character\": \"Herself\", \"credi...   \n",
       "\n",
       "                                                   crew  \n",
       "0     [{\"credit_id\": \"52fe48009251416c750aca23\", \"de...  \n",
       "1     [{\"credit_id\": \"52fe4232c3a36847f800b579\", \"de...  \n",
       "2     [{\"credit_id\": \"54805967c3a36829b5002c41\", \"de...  \n",
       "3     [{\"credit_id\": \"52fe4781c3a36847f81398c3\", \"de...  \n",
       "4     [{\"credit_id\": \"52fe479ac3a36847f813eaa3\", \"de...  \n",
       "...                                                 ...  \n",
       "4804  [{\"credit_id\": \"52fe44eec3a36847f80b280b\", \"de...  \n",
       "4805  [{\"credit_id\": \"52fe487dc3a368484e0fb013\", \"de...  \n",
       "4806  [{\"credit_id\": \"52fe4df3c3a36847f8275ecf\", \"de...  \n",
       "4807  [{\"credit_id\": \"52fe4ad9c3a368484e16a36b\", \"de...  \n",
       "4808  [{\"credit_id\": \"58ce021b9251415a390165d9\", \"de...  \n",
       "\n",
       "[4809 rows x 23 columns]"
      ]
     },
     "execution_count": 13,
     "metadata": {},
     "output_type": "execute_result"
    }
   ],
   "source": [
    "movies.merge(credits,on='title')"
   ]
  },
  {
   "cell_type": "code",
   "execution_count": 14,
   "id": "c1325071-613f-4a38-8193-2dc397c2f8ea",
   "metadata": {},
   "outputs": [],
   "source": [
    "movies = movies.merge(credits, on='title', how='outer')\n"
   ]
  },
  {
   "cell_type": "code",
   "execution_count": 15,
   "id": "bc4ca19b-8813-4947-a82a-bc56d9fd6993",
   "metadata": {},
   "outputs": [
    {
     "name": "stdout",
     "output_type": "stream",
     "text": [
      "title\n",
      "The Host                 2\n",
      "Batman                   2\n",
      "Out of the Blue          2\n",
      "Avatar                   1\n",
      "The Girl on the Train    1\n",
      "                        ..\n",
      "Step Up 3D               1\n",
      "Secondhand Lions         1\n",
      "The Age of Adaline       1\n",
      "Drag Me to Hell          1\n",
      "My Date with Drew        1\n",
      "Name: count, Length: 4800, dtype: int64\n"
     ]
    }
   ],
   "source": [
    "print(credits['title'].value_counts())\n",
    "\n"
   ]
  },
  {
   "cell_type": "code",
   "execution_count": 16,
   "id": "aaa9406e-a31b-4fa7-9884-e77d35cfa01a",
   "metadata": {},
   "outputs": [],
   "source": [
    "credits = credits.drop_duplicates(subset=['title'])\n"
   ]
  },
  {
   "cell_type": "code",
   "execution_count": 17,
   "id": "1f51e27c-16f3-4703-bbc3-0474eadb1f41",
   "metadata": {},
   "outputs": [],
   "source": [
    "movies['title'] = movies['title'].astype(str)\n",
    "credits['title'] = credits['title'].astype(str)\n"
   ]
  },
  {
   "cell_type": "code",
   "execution_count": 18,
   "id": "ae47f20b-d686-41a9-aa91-b114297292d1",
   "metadata": {},
   "outputs": [
    {
     "data": {
      "text/plain": [
       "(4809, 23)"
      ]
     },
     "execution_count": 18,
     "metadata": {},
     "output_type": "execute_result"
    }
   ],
   "source": [
    "movies.shape\n"
   ]
  },
  {
   "cell_type": "code",
   "execution_count": 19,
   "id": "a01107cd-dfe1-4976-bd93-226ed563494a",
   "metadata": {},
   "outputs": [
    {
     "data": {
      "text/plain": [
       "Index(['budget', 'genres', 'homepage', 'id', 'keywords', 'original_language',\n",
       "       'original_title', 'overview', 'popularity', 'production_companies',\n",
       "       'production_countries', 'release_date', 'revenue', 'runtime',\n",
       "       'spoken_languages', 'status', 'tagline', 'title', 'vote_average',\n",
       "       'vote_count', 'movie_id', 'cast', 'crew'],\n",
       "      dtype='object')"
      ]
     },
     "execution_count": 19,
     "metadata": {},
     "output_type": "execute_result"
    }
   ],
   "source": [
    "movies.columns"
   ]
  },
  {
   "cell_type": "code",
   "execution_count": 20,
   "id": "2c3e8456-4338-4aa8-83f5-243077f5dc74",
   "metadata": {},
   "outputs": [],
   "source": [
    "movies = movies[['movie_id','title','overview','genres','keywords','cast', 'crew']]"
   ]
  },
  {
   "cell_type": "code",
   "execution_count": 21,
   "id": "0a14dcea-b0e2-4408-a8ef-54b660cbf088",
   "metadata": {},
   "outputs": [
    {
     "data": {
      "text/html": [
       "<div>\n",
       "<style scoped>\n",
       "    .dataframe tbody tr th:only-of-type {\n",
       "        vertical-align: middle;\n",
       "    }\n",
       "\n",
       "    .dataframe tbody tr th {\n",
       "        vertical-align: top;\n",
       "    }\n",
       "\n",
       "    .dataframe thead th {\n",
       "        text-align: right;\n",
       "    }\n",
       "</style>\n",
       "<table border=\"1\" class=\"dataframe\">\n",
       "  <thead>\n",
       "    <tr style=\"text-align: right;\">\n",
       "      <th></th>\n",
       "      <th>movie_id</th>\n",
       "      <th>title</th>\n",
       "      <th>overview</th>\n",
       "      <th>genres</th>\n",
       "      <th>keywords</th>\n",
       "      <th>cast</th>\n",
       "      <th>crew</th>\n",
       "    </tr>\n",
       "  </thead>\n",
       "  <tbody>\n",
       "    <tr>\n",
       "      <th>0</th>\n",
       "      <td>301325</td>\n",
       "      <td>#Horror</td>\n",
       "      <td>Inspired by actual events, a group of 12 year ...</td>\n",
       "      <td>[{\"id\": 18, \"name\": \"Drama\"}, {\"id\": 9648, \"na...</td>\n",
       "      <td>[]</td>\n",
       "      <td>[{\"cast_id\": 0, \"character\": \"Alex's 12-Step F...</td>\n",
       "      <td>[{\"credit_id\": \"545bbac70e0a261fb6002329\", \"de...</td>\n",
       "    </tr>\n",
       "    <tr>\n",
       "      <th>1</th>\n",
       "      <td>19913</td>\n",
       "      <td>(500) Days of Summer</td>\n",
       "      <td>Tom (Joseph Gordon-Levitt), greeting-card writ...</td>\n",
       "      <td>[{\"id\": 35, \"name\": \"Comedy\"}, {\"id\": 18, \"nam...</td>\n",
       "      <td>[{\"id\": 248, \"name\": \"date\"}, {\"id\": 572, \"nam...</td>\n",
       "      <td>[{\"cast_id\": 4, \"character\": \"Tom Hansen\", \"cr...</td>\n",
       "      <td>[{\"credit_id\": \"52fe47f99251416c750abaa5\", \"de...</td>\n",
       "    </tr>\n",
       "  </tbody>\n",
       "</table>\n",
       "</div>"
      ],
      "text/plain": [
       "   movie_id                 title  \\\n",
       "0    301325               #Horror   \n",
       "1     19913  (500) Days of Summer   \n",
       "\n",
       "                                            overview  \\\n",
       "0  Inspired by actual events, a group of 12 year ...   \n",
       "1  Tom (Joseph Gordon-Levitt), greeting-card writ...   \n",
       "\n",
       "                                              genres  \\\n",
       "0  [{\"id\": 18, \"name\": \"Drama\"}, {\"id\": 9648, \"na...   \n",
       "1  [{\"id\": 35, \"name\": \"Comedy\"}, {\"id\": 18, \"nam...   \n",
       "\n",
       "                                            keywords  \\\n",
       "0                                                 []   \n",
       "1  [{\"id\": 248, \"name\": \"date\"}, {\"id\": 572, \"nam...   \n",
       "\n",
       "                                                cast  \\\n",
       "0  [{\"cast_id\": 0, \"character\": \"Alex's 12-Step F...   \n",
       "1  [{\"cast_id\": 4, \"character\": \"Tom Hansen\", \"cr...   \n",
       "\n",
       "                                                crew  \n",
       "0  [{\"credit_id\": \"545bbac70e0a261fb6002329\", \"de...  \n",
       "1  [{\"credit_id\": \"52fe47f99251416c750abaa5\", \"de...  "
      ]
     },
     "execution_count": 21,
     "metadata": {},
     "output_type": "execute_result"
    }
   ],
   "source": [
    "movies.head(2)"
   ]
  },
  {
   "cell_type": "code",
   "execution_count": 22,
   "id": "cdd26218-6168-48c0-91fa-3599269f0703",
   "metadata": {},
   "outputs": [
    {
     "data": {
      "text/plain": [
       "(4809, 7)"
      ]
     },
     "execution_count": 22,
     "metadata": {},
     "output_type": "execute_result"
    }
   ],
   "source": [
    "movies.shape\n"
   ]
  },
  {
   "cell_type": "code",
   "execution_count": 23,
   "id": "d4d07f52-76e1-4def-9de7-d6783624621b",
   "metadata": {},
   "outputs": [
    {
     "data": {
      "text/plain": [
       "movie_id    0\n",
       "title       0\n",
       "overview    3\n",
       "genres      0\n",
       "keywords    0\n",
       "cast        0\n",
       "crew        0\n",
       "dtype: int64"
      ]
     },
     "execution_count": 23,
     "metadata": {},
     "output_type": "execute_result"
    }
   ],
   "source": [
    "movies.isnull().sum()"
   ]
  },
  {
   "cell_type": "code",
   "execution_count": 24,
   "id": "8e505daf-7643-4567-b472-28fbd3f8206d",
   "metadata": {},
   "outputs": [],
   "source": [
    "movies.dropna(inplace=True)"
   ]
  },
  {
   "cell_type": "code",
   "execution_count": 25,
   "id": "485f4ffd-dde4-482c-943c-b768fdc3defb",
   "metadata": {},
   "outputs": [
    {
     "data": {
      "text/plain": [
       "(4806, 7)"
      ]
     },
     "execution_count": 25,
     "metadata": {},
     "output_type": "execute_result"
    }
   ],
   "source": [
    "movies.shape"
   ]
  },
  {
   "cell_type": "code",
   "execution_count": 26,
   "id": "d916e546-2b72-4f37-bc1b-5d51aed322fa",
   "metadata": {},
   "outputs": [
    {
     "data": {
      "text/plain": [
       "0"
      ]
     },
     "execution_count": 26,
     "metadata": {},
     "output_type": "execute_result"
    }
   ],
   "source": [
    "movies.duplicated().sum()"
   ]
  },
  {
   "cell_type": "code",
   "execution_count": 27,
   "id": "9fbb7d28-3ee9-4df2-8930-96368105d7d4",
   "metadata": {},
   "outputs": [],
   "source": [
    "import ast\n",
    "def convert(text):\n",
    "    l=[]\n",
    "    for i in ast.literal_eval(text):\n",
    "        l.append(i['name'])\n",
    "    return l\n",
    "        "
   ]
  },
  {
   "cell_type": "code",
   "execution_count": 28,
   "id": "e2c2cc11-8f17-4e2c-a7eb-c24059141637",
   "metadata": {},
   "outputs": [],
   "source": [
    "movies['genres'] = movies['genres'].apply(convert)"
   ]
  },
  {
   "cell_type": "code",
   "execution_count": 29,
   "id": "1ef3b23b-122f-4801-a151-cfe08b6a7ff4",
   "metadata": {},
   "outputs": [
    {
     "data": {
      "text/html": [
       "<div>\n",
       "<style scoped>\n",
       "    .dataframe tbody tr th:only-of-type {\n",
       "        vertical-align: middle;\n",
       "    }\n",
       "\n",
       "    .dataframe tbody tr th {\n",
       "        vertical-align: top;\n",
       "    }\n",
       "\n",
       "    .dataframe thead th {\n",
       "        text-align: right;\n",
       "    }\n",
       "</style>\n",
       "<table border=\"1\" class=\"dataframe\">\n",
       "  <thead>\n",
       "    <tr style=\"text-align: right;\">\n",
       "      <th></th>\n",
       "      <th>movie_id</th>\n",
       "      <th>title</th>\n",
       "      <th>overview</th>\n",
       "      <th>genres</th>\n",
       "      <th>keywords</th>\n",
       "      <th>cast</th>\n",
       "      <th>crew</th>\n",
       "    </tr>\n",
       "  </thead>\n",
       "  <tbody>\n",
       "    <tr>\n",
       "      <th>0</th>\n",
       "      <td>301325</td>\n",
       "      <td>#Horror</td>\n",
       "      <td>Inspired by actual events, a group of 12 year ...</td>\n",
       "      <td>[Drama, Mystery, Horror, Thriller]</td>\n",
       "      <td>[]</td>\n",
       "      <td>[{\"cast_id\": 0, \"character\": \"Alex's 12-Step F...</td>\n",
       "      <td>[{\"credit_id\": \"545bbac70e0a261fb6002329\", \"de...</td>\n",
       "    </tr>\n",
       "  </tbody>\n",
       "</table>\n",
       "</div>"
      ],
      "text/plain": [
       "   movie_id    title                                           overview  \\\n",
       "0    301325  #Horror  Inspired by actual events, a group of 12 year ...   \n",
       "\n",
       "                               genres keywords  \\\n",
       "0  [Drama, Mystery, Horror, Thriller]       []   \n",
       "\n",
       "                                                cast  \\\n",
       "0  [{\"cast_id\": 0, \"character\": \"Alex's 12-Step F...   \n",
       "\n",
       "                                                crew  \n",
       "0  [{\"credit_id\": \"545bbac70e0a261fb6002329\", \"de...  "
      ]
     },
     "execution_count": 29,
     "metadata": {},
     "output_type": "execute_result"
    }
   ],
   "source": [
    "movies.head(1)"
   ]
  },
  {
   "cell_type": "code",
   "execution_count": 30,
   "id": "5429c076-beaf-4171-ac63-ede3e97af595",
   "metadata": {},
   "outputs": [
    {
     "data": {
      "text/plain": [
       "'[{\"id\": 248, \"name\": \"date\"}, {\"id\": 572, \"name\": \"sex\"}, {\"id\": 931, \"name\": \"jealousy\"}, {\"id\": 1721, \"name\": \"fight\"}, {\"id\": 2301, \"name\": \"architect\"}, {\"id\": 2861, \"name\": \"gallery\"}, {\"id\": 4434, \"name\": \"interview\"}, {\"id\": 5923, \"name\": \"sister\"}, {\"id\": 8508, \"name\": \"party\"}, {\"id\": 9673, \"name\": \"love\"}, {\"id\": 9713, \"name\": \"friends\"}, {\"id\": 10855, \"name\": \"fate\"}, {\"id\": 12670, \"name\": \"los angeles\"}, {\"id\": 13088, \"name\": \"summer\"}, {\"id\": 180509, \"name\": \"ikea\"}, {\"id\": 201689, \"name\": \"year\"}, {\"id\": 201696, \"name\": \"heartache\"}]'"
      ]
     },
     "execution_count": 30,
     "metadata": {},
     "output_type": "execute_result"
    }
   ],
   "source": [
    "movies.iloc[1]['keywords']"
   ]
  },
  {
   "cell_type": "code",
   "execution_count": 31,
   "id": "b21288e9-5412-4522-9bd8-e7b1b7a46c36",
   "metadata": {},
   "outputs": [
    {
     "data": {
      "text/html": [
       "<div>\n",
       "<style scoped>\n",
       "    .dataframe tbody tr th:only-of-type {\n",
       "        vertical-align: middle;\n",
       "    }\n",
       "\n",
       "    .dataframe tbody tr th {\n",
       "        vertical-align: top;\n",
       "    }\n",
       "\n",
       "    .dataframe thead th {\n",
       "        text-align: right;\n",
       "    }\n",
       "</style>\n",
       "<table border=\"1\" class=\"dataframe\">\n",
       "  <thead>\n",
       "    <tr style=\"text-align: right;\">\n",
       "      <th></th>\n",
       "      <th>movie_id</th>\n",
       "      <th>title</th>\n",
       "      <th>overview</th>\n",
       "      <th>genres</th>\n",
       "      <th>keywords</th>\n",
       "      <th>cast</th>\n",
       "      <th>crew</th>\n",
       "    </tr>\n",
       "  </thead>\n",
       "  <tbody>\n",
       "    <tr>\n",
       "      <th>0</th>\n",
       "      <td>301325</td>\n",
       "      <td>#Horror</td>\n",
       "      <td>Inspired by actual events, a group of 12 year ...</td>\n",
       "      <td>[Drama, Mystery, Horror, Thriller]</td>\n",
       "      <td>[]</td>\n",
       "      <td>[{\"cast_id\": 0, \"character\": \"Alex's 12-Step F...</td>\n",
       "      <td>[{\"credit_id\": \"545bbac70e0a261fb6002329\", \"de...</td>\n",
       "    </tr>\n",
       "    <tr>\n",
       "      <th>1</th>\n",
       "      <td>19913</td>\n",
       "      <td>(500) Days of Summer</td>\n",
       "      <td>Tom (Joseph Gordon-Levitt), greeting-card writ...</td>\n",
       "      <td>[Comedy, Drama, Romance]</td>\n",
       "      <td>[date, sex, jealousy, fight, architect, galler...</td>\n",
       "      <td>[{\"cast_id\": 4, \"character\": \"Tom Hansen\", \"cr...</td>\n",
       "      <td>[{\"credit_id\": \"52fe47f99251416c750abaa5\", \"de...</td>\n",
       "    </tr>\n",
       "  </tbody>\n",
       "</table>\n",
       "</div>"
      ],
      "text/plain": [
       "   movie_id                 title  \\\n",
       "0    301325               #Horror   \n",
       "1     19913  (500) Days of Summer   \n",
       "\n",
       "                                            overview  \\\n",
       "0  Inspired by actual events, a group of 12 year ...   \n",
       "1  Tom (Joseph Gordon-Levitt), greeting-card writ...   \n",
       "\n",
       "                               genres  \\\n",
       "0  [Drama, Mystery, Horror, Thriller]   \n",
       "1            [Comedy, Drama, Romance]   \n",
       "\n",
       "                                            keywords  \\\n",
       "0                                                 []   \n",
       "1  [date, sex, jealousy, fight, architect, galler...   \n",
       "\n",
       "                                                cast  \\\n",
       "0  [{\"cast_id\": 0, \"character\": \"Alex's 12-Step F...   \n",
       "1  [{\"cast_id\": 4, \"character\": \"Tom Hansen\", \"cr...   \n",
       "\n",
       "                                                crew  \n",
       "0  [{\"credit_id\": \"545bbac70e0a261fb6002329\", \"de...  \n",
       "1  [{\"credit_id\": \"52fe47f99251416c750abaa5\", \"de...  "
      ]
     },
     "execution_count": 31,
     "metadata": {},
     "output_type": "execute_result"
    }
   ],
   "source": [
    "movies['keywords'] = movies['keywords'].apply(convert)\n",
    "movies.head(2)"
   ]
  },
  {
   "cell_type": "code",
   "execution_count": 32,
   "id": "198f1a1a-72d7-418b-8c0b-bfb7082c9d4c",
   "metadata": {},
   "outputs": [],
   "source": [
    "import ast\n",
    "def convert_cast(text):\n",
    "    l=[]\n",
    "    counter=0\n",
    "    for i in ast.literal_eval(text):\n",
    "        if counter<3:\n",
    "            l.append(i['name'])\n",
    "        counter+=1\n",
    "    return l\n",
    "        "
   ]
  },
  {
   "cell_type": "code",
   "execution_count": 33,
   "id": "ff5a5284-6304-491b-9d8a-99430702497e",
   "metadata": {},
   "outputs": [
    {
     "data": {
      "text/html": [
       "<div>\n",
       "<style scoped>\n",
       "    .dataframe tbody tr th:only-of-type {\n",
       "        vertical-align: middle;\n",
       "    }\n",
       "\n",
       "    .dataframe tbody tr th {\n",
       "        vertical-align: top;\n",
       "    }\n",
       "\n",
       "    .dataframe thead th {\n",
       "        text-align: right;\n",
       "    }\n",
       "</style>\n",
       "<table border=\"1\" class=\"dataframe\">\n",
       "  <thead>\n",
       "    <tr style=\"text-align: right;\">\n",
       "      <th></th>\n",
       "      <th>movie_id</th>\n",
       "      <th>title</th>\n",
       "      <th>overview</th>\n",
       "      <th>genres</th>\n",
       "      <th>keywords</th>\n",
       "      <th>cast</th>\n",
       "      <th>crew</th>\n",
       "    </tr>\n",
       "  </thead>\n",
       "  <tbody>\n",
       "    <tr>\n",
       "      <th>0</th>\n",
       "      <td>301325</td>\n",
       "      <td>#Horror</td>\n",
       "      <td>Inspired by actual events, a group of 12 year ...</td>\n",
       "      <td>[Drama, Mystery, Horror, Thriller]</td>\n",
       "      <td>[]</td>\n",
       "      <td>[Taryn Manning, Natasha Lyonne, Chloë Sevigny]</td>\n",
       "      <td>[{\"credit_id\": \"545bbac70e0a261fb6002329\", \"de...</td>\n",
       "    </tr>\n",
       "    <tr>\n",
       "      <th>1</th>\n",
       "      <td>19913</td>\n",
       "      <td>(500) Days of Summer</td>\n",
       "      <td>Tom (Joseph Gordon-Levitt), greeting-card writ...</td>\n",
       "      <td>[Comedy, Drama, Romance]</td>\n",
       "      <td>[date, sex, jealousy, fight, architect, galler...</td>\n",
       "      <td>[Joseph Gordon-Levitt, Zooey Deschanel, Chloë ...</td>\n",
       "      <td>[{\"credit_id\": \"52fe47f99251416c750abaa5\", \"de...</td>\n",
       "    </tr>\n",
       "  </tbody>\n",
       "</table>\n",
       "</div>"
      ],
      "text/plain": [
       "   movie_id                 title  \\\n",
       "0    301325               #Horror   \n",
       "1     19913  (500) Days of Summer   \n",
       "\n",
       "                                            overview  \\\n",
       "0  Inspired by actual events, a group of 12 year ...   \n",
       "1  Tom (Joseph Gordon-Levitt), greeting-card writ...   \n",
       "\n",
       "                               genres  \\\n",
       "0  [Drama, Mystery, Horror, Thriller]   \n",
       "1            [Comedy, Drama, Romance]   \n",
       "\n",
       "                                            keywords  \\\n",
       "0                                                 []   \n",
       "1  [date, sex, jealousy, fight, architect, galler...   \n",
       "\n",
       "                                                cast  \\\n",
       "0     [Taryn Manning, Natasha Lyonne, Chloë Sevigny]   \n",
       "1  [Joseph Gordon-Levitt, Zooey Deschanel, Chloë ...   \n",
       "\n",
       "                                                crew  \n",
       "0  [{\"credit_id\": \"545bbac70e0a261fb6002329\", \"de...  \n",
       "1  [{\"credit_id\": \"52fe47f99251416c750abaa5\", \"de...  "
      ]
     },
     "execution_count": 33,
     "metadata": {},
     "output_type": "execute_result"
    }
   ],
   "source": [
    "movies['cast'] = movies['cast'].apply(convert_cast)\n",
    "movies.head(2)"
   ]
  },
  {
   "cell_type": "code",
   "execution_count": 34,
   "id": "54da6a90-e3c3-4987-9724-72cd1e3db7b5",
   "metadata": {},
   "outputs": [],
   "source": [
    "def fetch_director(text):\n",
    "    l=[]\n",
    "    for i in ast.literal_eval(text):\n",
    "        if i['job']==\"Director\":\n",
    "            l.append(i['name'])\n",
    "            break\n",
    "    return l\n",
    "        "
   ]
  },
  {
   "cell_type": "code",
   "execution_count": 35,
   "id": "5d5d0bfb-2a00-497b-91d3-dbdf90368be1",
   "metadata": {},
   "outputs": [
    {
     "data": {
      "text/html": [
       "<div>\n",
       "<style scoped>\n",
       "    .dataframe tbody tr th:only-of-type {\n",
       "        vertical-align: middle;\n",
       "    }\n",
       "\n",
       "    .dataframe tbody tr th {\n",
       "        vertical-align: top;\n",
       "    }\n",
       "\n",
       "    .dataframe thead th {\n",
       "        text-align: right;\n",
       "    }\n",
       "</style>\n",
       "<table border=\"1\" class=\"dataframe\">\n",
       "  <thead>\n",
       "    <tr style=\"text-align: right;\">\n",
       "      <th></th>\n",
       "      <th>movie_id</th>\n",
       "      <th>title</th>\n",
       "      <th>overview</th>\n",
       "      <th>genres</th>\n",
       "      <th>keywords</th>\n",
       "      <th>cast</th>\n",
       "      <th>crew</th>\n",
       "    </tr>\n",
       "  </thead>\n",
       "  <tbody>\n",
       "    <tr>\n",
       "      <th>0</th>\n",
       "      <td>301325</td>\n",
       "      <td>#Horror</td>\n",
       "      <td>Inspired by actual events, a group of 12 year ...</td>\n",
       "      <td>[Drama, Mystery, Horror, Thriller]</td>\n",
       "      <td>[]</td>\n",
       "      <td>[Taryn Manning, Natasha Lyonne, Chloë Sevigny]</td>\n",
       "      <td>[Tara Subkoff]</td>\n",
       "    </tr>\n",
       "    <tr>\n",
       "      <th>1</th>\n",
       "      <td>19913</td>\n",
       "      <td>(500) Days of Summer</td>\n",
       "      <td>Tom (Joseph Gordon-Levitt), greeting-card writ...</td>\n",
       "      <td>[Comedy, Drama, Romance]</td>\n",
       "      <td>[date, sex, jealousy, fight, architect, galler...</td>\n",
       "      <td>[Joseph Gordon-Levitt, Zooey Deschanel, Chloë ...</td>\n",
       "      <td>[Marc Webb]</td>\n",
       "    </tr>\n",
       "  </tbody>\n",
       "</table>\n",
       "</div>"
      ],
      "text/plain": [
       "   movie_id                 title  \\\n",
       "0    301325               #Horror   \n",
       "1     19913  (500) Days of Summer   \n",
       "\n",
       "                                            overview  \\\n",
       "0  Inspired by actual events, a group of 12 year ...   \n",
       "1  Tom (Joseph Gordon-Levitt), greeting-card writ...   \n",
       "\n",
       "                               genres  \\\n",
       "0  [Drama, Mystery, Horror, Thriller]   \n",
       "1            [Comedy, Drama, Romance]   \n",
       "\n",
       "                                            keywords  \\\n",
       "0                                                 []   \n",
       "1  [date, sex, jealousy, fight, architect, galler...   \n",
       "\n",
       "                                                cast            crew  \n",
       "0     [Taryn Manning, Natasha Lyonne, Chloë Sevigny]  [Tara Subkoff]  \n",
       "1  [Joseph Gordon-Levitt, Zooey Deschanel, Chloë ...     [Marc Webb]  "
      ]
     },
     "execution_count": 35,
     "metadata": {},
     "output_type": "execute_result"
    }
   ],
   "source": [
    "movies['crew'] = movies['crew'].apply(fetch_director)\n",
    "movies.head(2)"
   ]
  },
  {
   "cell_type": "code",
   "execution_count": 36,
   "id": "03e3505a-52b4-40ba-a368-4cdce500dc46",
   "metadata": {},
   "outputs": [
    {
     "data": {
      "text/html": [
       "<div>\n",
       "<style scoped>\n",
       "    .dataframe tbody tr th:only-of-type {\n",
       "        vertical-align: middle;\n",
       "    }\n",
       "\n",
       "    .dataframe tbody tr th {\n",
       "        vertical-align: top;\n",
       "    }\n",
       "\n",
       "    .dataframe thead th {\n",
       "        text-align: right;\n",
       "    }\n",
       "</style>\n",
       "<table border=\"1\" class=\"dataframe\">\n",
       "  <thead>\n",
       "    <tr style=\"text-align: right;\">\n",
       "      <th></th>\n",
       "      <th>movie_id</th>\n",
       "      <th>title</th>\n",
       "      <th>overview</th>\n",
       "      <th>genres</th>\n",
       "      <th>keywords</th>\n",
       "      <th>cast</th>\n",
       "      <th>crew</th>\n",
       "    </tr>\n",
       "  </thead>\n",
       "  <tbody>\n",
       "    <tr>\n",
       "      <th>0</th>\n",
       "      <td>301325</td>\n",
       "      <td>#Horror</td>\n",
       "      <td>[Inspired, by, actual, events,, a, group, of, ...</td>\n",
       "      <td>[Drama, Mystery, Horror, Thriller]</td>\n",
       "      <td>[]</td>\n",
       "      <td>[Taryn Manning, Natasha Lyonne, Chloë Sevigny]</td>\n",
       "      <td>[Tara Subkoff]</td>\n",
       "    </tr>\n",
       "    <tr>\n",
       "      <th>1</th>\n",
       "      <td>19913</td>\n",
       "      <td>(500) Days of Summer</td>\n",
       "      <td>[Tom, (Joseph, Gordon-Levitt),, greeting-card,...</td>\n",
       "      <td>[Comedy, Drama, Romance]</td>\n",
       "      <td>[date, sex, jealousy, fight, architect, galler...</td>\n",
       "      <td>[Joseph Gordon-Levitt, Zooey Deschanel, Chloë ...</td>\n",
       "      <td>[Marc Webb]</td>\n",
       "    </tr>\n",
       "  </tbody>\n",
       "</table>\n",
       "</div>"
      ],
      "text/plain": [
       "   movie_id                 title  \\\n",
       "0    301325               #Horror   \n",
       "1     19913  (500) Days of Summer   \n",
       "\n",
       "                                            overview  \\\n",
       "0  [Inspired, by, actual, events,, a, group, of, ...   \n",
       "1  [Tom, (Joseph, Gordon-Levitt),, greeting-card,...   \n",
       "\n",
       "                               genres  \\\n",
       "0  [Drama, Mystery, Horror, Thriller]   \n",
       "1            [Comedy, Drama, Romance]   \n",
       "\n",
       "                                            keywords  \\\n",
       "0                                                 []   \n",
       "1  [date, sex, jealousy, fight, architect, galler...   \n",
       "\n",
       "                                                cast            crew  \n",
       "0     [Taryn Manning, Natasha Lyonne, Chloë Sevigny]  [Tara Subkoff]  \n",
       "1  [Joseph Gordon-Levitt, Zooey Deschanel, Chloë ...     [Marc Webb]  "
      ]
     },
     "execution_count": 36,
     "metadata": {},
     "output_type": "execute_result"
    }
   ],
   "source": [
    "movies['overview'] =movies['overview'].apply(lambda x:x.split())\n",
    "movies.head(2)"
   ]
  },
  {
   "cell_type": "code",
   "execution_count": 37,
   "id": "961b9814-f150-4987-aa08-c751f336e9e2",
   "metadata": {},
   "outputs": [
    {
     "data": {
      "text/plain": [
       "['Inspired',\n",
       " 'by',\n",
       " 'actual',\n",
       " 'events,',\n",
       " 'a',\n",
       " 'group',\n",
       " 'of',\n",
       " '12',\n",
       " 'year',\n",
       " 'old',\n",
       " 'girls',\n",
       " 'face',\n",
       " 'a',\n",
       " 'night',\n",
       " 'of',\n",
       " 'horror',\n",
       " 'when',\n",
       " 'the',\n",
       " 'compulsive',\n",
       " 'addiction',\n",
       " 'of',\n",
       " 'an',\n",
       " 'online',\n",
       " 'social',\n",
       " 'media',\n",
       " 'game',\n",
       " 'turns',\n",
       " 'a',\n",
       " 'moment',\n",
       " 'of',\n",
       " 'cyber',\n",
       " 'bullying',\n",
       " 'into',\n",
       " 'a',\n",
       " 'night',\n",
       " 'of',\n",
       " 'insanity.']"
      ]
     },
     "execution_count": 37,
     "metadata": {},
     "output_type": "execute_result"
    }
   ],
   "source": [
    "movies.iloc[0]['overview']"
   ]
  },
  {
   "cell_type": "code",
   "execution_count": 38,
   "id": "feb9b465-4a37-48ea-b50c-c9ebb21cf777",
   "metadata": {},
   "outputs": [
    {
     "data": {
      "text/html": [
       "<div>\n",
       "<style scoped>\n",
       "    .dataframe tbody tr th:only-of-type {\n",
       "        vertical-align: middle;\n",
       "    }\n",
       "\n",
       "    .dataframe tbody tr th {\n",
       "        vertical-align: top;\n",
       "    }\n",
       "\n",
       "    .dataframe thead th {\n",
       "        text-align: right;\n",
       "    }\n",
       "</style>\n",
       "<table border=\"1\" class=\"dataframe\">\n",
       "  <thead>\n",
       "    <tr style=\"text-align: right;\">\n",
       "      <th></th>\n",
       "      <th>movie_id</th>\n",
       "      <th>title</th>\n",
       "      <th>overview</th>\n",
       "      <th>genres</th>\n",
       "      <th>keywords</th>\n",
       "      <th>cast</th>\n",
       "      <th>crew</th>\n",
       "    </tr>\n",
       "  </thead>\n",
       "  <tbody>\n",
       "    <tr>\n",
       "      <th>0</th>\n",
       "      <td>301325</td>\n",
       "      <td>#Horror</td>\n",
       "      <td>[Inspired, by, actual, events,, a, group, of, ...</td>\n",
       "      <td>[Drama, Mystery, Horror, Thriller]</td>\n",
       "      <td>[]</td>\n",
       "      <td>[Taryn Manning, Natasha Lyonne, Chloë Sevigny]</td>\n",
       "      <td>[Tara Subkoff]</td>\n",
       "    </tr>\n",
       "    <tr>\n",
       "      <th>1</th>\n",
       "      <td>19913</td>\n",
       "      <td>(500) Days of Summer</td>\n",
       "      <td>[Tom, (Joseph, Gordon-Levitt),, greeting-card,...</td>\n",
       "      <td>[Comedy, Drama, Romance]</td>\n",
       "      <td>[date, sex, jealousy, fight, architect, galler...</td>\n",
       "      <td>[Joseph Gordon-Levitt, Zooey Deschanel, Chloë ...</td>\n",
       "      <td>[Marc Webb]</td>\n",
       "    </tr>\n",
       "    <tr>\n",
       "      <th>2</th>\n",
       "      <td>333371</td>\n",
       "      <td>10 Cloverfield Lane</td>\n",
       "      <td>[After, a, car, accident,, Michelle, awakens, ...</td>\n",
       "      <td>[Thriller, Science Fiction, Drama]</td>\n",
       "      <td>[kidnapping, bunker, paranoia, basement, survi...</td>\n",
       "      <td>[Mary Elizabeth Winstead, John Goodman, John G...</td>\n",
       "      <td>[Dan Trachtenberg]</td>\n",
       "    </tr>\n",
       "    <tr>\n",
       "      <th>3</th>\n",
       "      <td>345003</td>\n",
       "      <td>10 Days in a Madhouse</td>\n",
       "      <td>[Nellie, Bly,, a, 23, year-old, reporter, for,...</td>\n",
       "      <td>[Drama]</td>\n",
       "      <td>[undercover, insane asylum, reporter]</td>\n",
       "      <td>[Caroline Barry, Christopher Lambert, Kelly Le...</td>\n",
       "      <td>[Timothy Hines]</td>\n",
       "    </tr>\n",
       "    <tr>\n",
       "      <th>4</th>\n",
       "      <td>4951</td>\n",
       "      <td>10 Things I Hate About You</td>\n",
       "      <td>[Bianca,, a, tenth, grader,, has, never, gone,...</td>\n",
       "      <td>[Comedy, Romance, Drama]</td>\n",
       "      <td>[shakespeare, sister, high school, cannabis, d...</td>\n",
       "      <td>[Heath Ledger, Julia Stiles, Joseph Gordon-Lev...</td>\n",
       "      <td>[Gil Junger]</td>\n",
       "    </tr>\n",
       "  </tbody>\n",
       "</table>\n",
       "</div>"
      ],
      "text/plain": [
       "   movie_id                       title  \\\n",
       "0    301325                     #Horror   \n",
       "1     19913        (500) Days of Summer   \n",
       "2    333371         10 Cloverfield Lane   \n",
       "3    345003       10 Days in a Madhouse   \n",
       "4      4951  10 Things I Hate About You   \n",
       "\n",
       "                                            overview  \\\n",
       "0  [Inspired, by, actual, events,, a, group, of, ...   \n",
       "1  [Tom, (Joseph, Gordon-Levitt),, greeting-card,...   \n",
       "2  [After, a, car, accident,, Michelle, awakens, ...   \n",
       "3  [Nellie, Bly,, a, 23, year-old, reporter, for,...   \n",
       "4  [Bianca,, a, tenth, grader,, has, never, gone,...   \n",
       "\n",
       "                               genres  \\\n",
       "0  [Drama, Mystery, Horror, Thriller]   \n",
       "1            [Comedy, Drama, Romance]   \n",
       "2  [Thriller, Science Fiction, Drama]   \n",
       "3                             [Drama]   \n",
       "4            [Comedy, Romance, Drama]   \n",
       "\n",
       "                                            keywords  \\\n",
       "0                                                 []   \n",
       "1  [date, sex, jealousy, fight, architect, galler...   \n",
       "2  [kidnapping, bunker, paranoia, basement, survi...   \n",
       "3              [undercover, insane asylum, reporter]   \n",
       "4  [shakespeare, sister, high school, cannabis, d...   \n",
       "\n",
       "                                                cast                crew  \n",
       "0     [Taryn Manning, Natasha Lyonne, Chloë Sevigny]      [Tara Subkoff]  \n",
       "1  [Joseph Gordon-Levitt, Zooey Deschanel, Chloë ...         [Marc Webb]  \n",
       "2  [Mary Elizabeth Winstead, John Goodman, John G...  [Dan Trachtenberg]  \n",
       "3  [Caroline Barry, Christopher Lambert, Kelly Le...     [Timothy Hines]  \n",
       "4  [Heath Ledger, Julia Stiles, Joseph Gordon-Lev...        [Gil Junger]  "
      ]
     },
     "execution_count": 38,
     "metadata": {},
     "output_type": "execute_result"
    }
   ],
   "source": [
    "movies.head()"
   ]
  },
  {
   "cell_type": "code",
   "execution_count": 39,
   "id": "df784628-10d3-495a-a8ea-3eaea9e8ed65",
   "metadata": {},
   "outputs": [],
   "source": [
    "def remove_space(word):\n",
    "    l=[]\n",
    "    for i in word:\n",
    "        l.append(i.replace(\" \",\"\"))\n",
    "    return l"
   ]
  },
  {
   "cell_type": "code",
   "execution_count": 40,
   "id": "d7efede7-a408-46da-8bec-090c87baf97c",
   "metadata": {},
   "outputs": [],
   "source": [
    "movies['cast'] = movies['cast'].apply(remove_space)\n",
    "movies['crew'] = movies['crew'].apply(remove_space)\n",
    "movies['genres'] = movies['genres'].apply(remove_space)\n",
    "movies['keywords'] = movies['keywords'].apply(remove_space)"
   ]
  },
  {
   "cell_type": "code",
   "execution_count": 41,
   "id": "19ef3d76-d2a8-4593-bdb7-71ba7d2dc87d",
   "metadata": {},
   "outputs": [
    {
     "data": {
      "text/html": [
       "<div>\n",
       "<style scoped>\n",
       "    .dataframe tbody tr th:only-of-type {\n",
       "        vertical-align: middle;\n",
       "    }\n",
       "\n",
       "    .dataframe tbody tr th {\n",
       "        vertical-align: top;\n",
       "    }\n",
       "\n",
       "    .dataframe thead th {\n",
       "        text-align: right;\n",
       "    }\n",
       "</style>\n",
       "<table border=\"1\" class=\"dataframe\">\n",
       "  <thead>\n",
       "    <tr style=\"text-align: right;\">\n",
       "      <th></th>\n",
       "      <th>movie_id</th>\n",
       "      <th>title</th>\n",
       "      <th>overview</th>\n",
       "      <th>genres</th>\n",
       "      <th>keywords</th>\n",
       "      <th>cast</th>\n",
       "      <th>crew</th>\n",
       "    </tr>\n",
       "  </thead>\n",
       "  <tbody>\n",
       "    <tr>\n",
       "      <th>0</th>\n",
       "      <td>301325</td>\n",
       "      <td>#Horror</td>\n",
       "      <td>[Inspired, by, actual, events,, a, group, of, ...</td>\n",
       "      <td>[Drama, Mystery, Horror, Thriller]</td>\n",
       "      <td>[]</td>\n",
       "      <td>[TarynManning, NatashaLyonne, ChloëSevigny]</td>\n",
       "      <td>[TaraSubkoff]</td>\n",
       "    </tr>\n",
       "    <tr>\n",
       "      <th>1</th>\n",
       "      <td>19913</td>\n",
       "      <td>(500) Days of Summer</td>\n",
       "      <td>[Tom, (Joseph, Gordon-Levitt),, greeting-card,...</td>\n",
       "      <td>[Comedy, Drama, Romance]</td>\n",
       "      <td>[date, sex, jealousy, fight, architect, galler...</td>\n",
       "      <td>[JosephGordon-Levitt, ZooeyDeschanel, ChloëGra...</td>\n",
       "      <td>[MarcWebb]</td>\n",
       "    </tr>\n",
       "    <tr>\n",
       "      <th>2</th>\n",
       "      <td>333371</td>\n",
       "      <td>10 Cloverfield Lane</td>\n",
       "      <td>[After, a, car, accident,, Michelle, awakens, ...</td>\n",
       "      <td>[Thriller, ScienceFiction, Drama]</td>\n",
       "      <td>[kidnapping, bunker, paranoia, basement, survi...</td>\n",
       "      <td>[MaryElizabethWinstead, JohnGoodman, JohnGalla...</td>\n",
       "      <td>[DanTrachtenberg]</td>\n",
       "    </tr>\n",
       "    <tr>\n",
       "      <th>3</th>\n",
       "      <td>345003</td>\n",
       "      <td>10 Days in a Madhouse</td>\n",
       "      <td>[Nellie, Bly,, a, 23, year-old, reporter, for,...</td>\n",
       "      <td>[Drama]</td>\n",
       "      <td>[undercover, insaneasylum, reporter]</td>\n",
       "      <td>[CarolineBarry, ChristopherLambert, KellyLeBrock]</td>\n",
       "      <td>[TimothyHines]</td>\n",
       "    </tr>\n",
       "    <tr>\n",
       "      <th>4</th>\n",
       "      <td>4951</td>\n",
       "      <td>10 Things I Hate About You</td>\n",
       "      <td>[Bianca,, a, tenth, grader,, has, never, gone,...</td>\n",
       "      <td>[Comedy, Romance, Drama]</td>\n",
       "      <td>[shakespeare, sister, highschool, cannabis, de...</td>\n",
       "      <td>[HeathLedger, JuliaStiles, JosephGordon-Levitt]</td>\n",
       "      <td>[GilJunger]</td>\n",
       "    </tr>\n",
       "  </tbody>\n",
       "</table>\n",
       "</div>"
      ],
      "text/plain": [
       "   movie_id                       title  \\\n",
       "0    301325                     #Horror   \n",
       "1     19913        (500) Days of Summer   \n",
       "2    333371         10 Cloverfield Lane   \n",
       "3    345003       10 Days in a Madhouse   \n",
       "4      4951  10 Things I Hate About You   \n",
       "\n",
       "                                            overview  \\\n",
       "0  [Inspired, by, actual, events,, a, group, of, ...   \n",
       "1  [Tom, (Joseph, Gordon-Levitt),, greeting-card,...   \n",
       "2  [After, a, car, accident,, Michelle, awakens, ...   \n",
       "3  [Nellie, Bly,, a, 23, year-old, reporter, for,...   \n",
       "4  [Bianca,, a, tenth, grader,, has, never, gone,...   \n",
       "\n",
       "                               genres  \\\n",
       "0  [Drama, Mystery, Horror, Thriller]   \n",
       "1            [Comedy, Drama, Romance]   \n",
       "2   [Thriller, ScienceFiction, Drama]   \n",
       "3                             [Drama]   \n",
       "4            [Comedy, Romance, Drama]   \n",
       "\n",
       "                                            keywords  \\\n",
       "0                                                 []   \n",
       "1  [date, sex, jealousy, fight, architect, galler...   \n",
       "2  [kidnapping, bunker, paranoia, basement, survi...   \n",
       "3               [undercover, insaneasylum, reporter]   \n",
       "4  [shakespeare, sister, highschool, cannabis, de...   \n",
       "\n",
       "                                                cast               crew  \n",
       "0        [TarynManning, NatashaLyonne, ChloëSevigny]      [TaraSubkoff]  \n",
       "1  [JosephGordon-Levitt, ZooeyDeschanel, ChloëGra...         [MarcWebb]  \n",
       "2  [MaryElizabethWinstead, JohnGoodman, JohnGalla...  [DanTrachtenberg]  \n",
       "3  [CarolineBarry, ChristopherLambert, KellyLeBrock]     [TimothyHines]  \n",
       "4    [HeathLedger, JuliaStiles, JosephGordon-Levitt]        [GilJunger]  "
      ]
     },
     "execution_count": 41,
     "metadata": {},
     "output_type": "execute_result"
    }
   ],
   "source": [
    "movies.head()"
   ]
  },
  {
   "cell_type": "code",
   "execution_count": 42,
   "id": "a2a65e07-22d8-49a9-baa8-dd907fab5702",
   "metadata": {},
   "outputs": [],
   "source": [
    "movies['tags']=movies['overview']+movies['genres']+movies['keywords']+movies['cast']+movies['crew']"
   ]
  },
  {
   "cell_type": "code",
   "execution_count": 43,
   "id": "79c42e8f-70c2-40ed-86b4-41bbdf4d537f",
   "metadata": {},
   "outputs": [
    {
     "data": {
      "text/html": [
       "<div>\n",
       "<style scoped>\n",
       "    .dataframe tbody tr th:only-of-type {\n",
       "        vertical-align: middle;\n",
       "    }\n",
       "\n",
       "    .dataframe tbody tr th {\n",
       "        vertical-align: top;\n",
       "    }\n",
       "\n",
       "    .dataframe thead th {\n",
       "        text-align: right;\n",
       "    }\n",
       "</style>\n",
       "<table border=\"1\" class=\"dataframe\">\n",
       "  <thead>\n",
       "    <tr style=\"text-align: right;\">\n",
       "      <th></th>\n",
       "      <th>movie_id</th>\n",
       "      <th>title</th>\n",
       "      <th>overview</th>\n",
       "      <th>genres</th>\n",
       "      <th>keywords</th>\n",
       "      <th>cast</th>\n",
       "      <th>crew</th>\n",
       "      <th>tags</th>\n",
       "    </tr>\n",
       "  </thead>\n",
       "  <tbody>\n",
       "    <tr>\n",
       "      <th>0</th>\n",
       "      <td>301325</td>\n",
       "      <td>#Horror</td>\n",
       "      <td>[Inspired, by, actual, events,, a, group, of, ...</td>\n",
       "      <td>[Drama, Mystery, Horror, Thriller]</td>\n",
       "      <td>[]</td>\n",
       "      <td>[TarynManning, NatashaLyonne, ChloëSevigny]</td>\n",
       "      <td>[TaraSubkoff]</td>\n",
       "      <td>[Inspired, by, actual, events,, a, group, of, ...</td>\n",
       "    </tr>\n",
       "    <tr>\n",
       "      <th>1</th>\n",
       "      <td>19913</td>\n",
       "      <td>(500) Days of Summer</td>\n",
       "      <td>[Tom, (Joseph, Gordon-Levitt),, greeting-card,...</td>\n",
       "      <td>[Comedy, Drama, Romance]</td>\n",
       "      <td>[date, sex, jealousy, fight, architect, galler...</td>\n",
       "      <td>[JosephGordon-Levitt, ZooeyDeschanel, ChloëGra...</td>\n",
       "      <td>[MarcWebb]</td>\n",
       "      <td>[Tom, (Joseph, Gordon-Levitt),, greeting-card,...</td>\n",
       "    </tr>\n",
       "    <tr>\n",
       "      <th>2</th>\n",
       "      <td>333371</td>\n",
       "      <td>10 Cloverfield Lane</td>\n",
       "      <td>[After, a, car, accident,, Michelle, awakens, ...</td>\n",
       "      <td>[Thriller, ScienceFiction, Drama]</td>\n",
       "      <td>[kidnapping, bunker, paranoia, basement, survi...</td>\n",
       "      <td>[MaryElizabethWinstead, JohnGoodman, JohnGalla...</td>\n",
       "      <td>[DanTrachtenberg]</td>\n",
       "      <td>[After, a, car, accident,, Michelle, awakens, ...</td>\n",
       "    </tr>\n",
       "    <tr>\n",
       "      <th>3</th>\n",
       "      <td>345003</td>\n",
       "      <td>10 Days in a Madhouse</td>\n",
       "      <td>[Nellie, Bly,, a, 23, year-old, reporter, for,...</td>\n",
       "      <td>[Drama]</td>\n",
       "      <td>[undercover, insaneasylum, reporter]</td>\n",
       "      <td>[CarolineBarry, ChristopherLambert, KellyLeBrock]</td>\n",
       "      <td>[TimothyHines]</td>\n",
       "      <td>[Nellie, Bly,, a, 23, year-old, reporter, for,...</td>\n",
       "    </tr>\n",
       "    <tr>\n",
       "      <th>4</th>\n",
       "      <td>4951</td>\n",
       "      <td>10 Things I Hate About You</td>\n",
       "      <td>[Bianca,, a, tenth, grader,, has, never, gone,...</td>\n",
       "      <td>[Comedy, Romance, Drama]</td>\n",
       "      <td>[shakespeare, sister, highschool, cannabis, de...</td>\n",
       "      <td>[HeathLedger, JuliaStiles, JosephGordon-Levitt]</td>\n",
       "      <td>[GilJunger]</td>\n",
       "      <td>[Bianca,, a, tenth, grader,, has, never, gone,...</td>\n",
       "    </tr>\n",
       "  </tbody>\n",
       "</table>\n",
       "</div>"
      ],
      "text/plain": [
       "   movie_id                       title  \\\n",
       "0    301325                     #Horror   \n",
       "1     19913        (500) Days of Summer   \n",
       "2    333371         10 Cloverfield Lane   \n",
       "3    345003       10 Days in a Madhouse   \n",
       "4      4951  10 Things I Hate About You   \n",
       "\n",
       "                                            overview  \\\n",
       "0  [Inspired, by, actual, events,, a, group, of, ...   \n",
       "1  [Tom, (Joseph, Gordon-Levitt),, greeting-card,...   \n",
       "2  [After, a, car, accident,, Michelle, awakens, ...   \n",
       "3  [Nellie, Bly,, a, 23, year-old, reporter, for,...   \n",
       "4  [Bianca,, a, tenth, grader,, has, never, gone,...   \n",
       "\n",
       "                               genres  \\\n",
       "0  [Drama, Mystery, Horror, Thriller]   \n",
       "1            [Comedy, Drama, Romance]   \n",
       "2   [Thriller, ScienceFiction, Drama]   \n",
       "3                             [Drama]   \n",
       "4            [Comedy, Romance, Drama]   \n",
       "\n",
       "                                            keywords  \\\n",
       "0                                                 []   \n",
       "1  [date, sex, jealousy, fight, architect, galler...   \n",
       "2  [kidnapping, bunker, paranoia, basement, survi...   \n",
       "3               [undercover, insaneasylum, reporter]   \n",
       "4  [shakespeare, sister, highschool, cannabis, de...   \n",
       "\n",
       "                                                cast               crew  \\\n",
       "0        [TarynManning, NatashaLyonne, ChloëSevigny]      [TaraSubkoff]   \n",
       "1  [JosephGordon-Levitt, ZooeyDeschanel, ChloëGra...         [MarcWebb]   \n",
       "2  [MaryElizabethWinstead, JohnGoodman, JohnGalla...  [DanTrachtenberg]   \n",
       "3  [CarolineBarry, ChristopherLambert, KellyLeBrock]     [TimothyHines]   \n",
       "4    [HeathLedger, JuliaStiles, JosephGordon-Levitt]        [GilJunger]   \n",
       "\n",
       "                                                tags  \n",
       "0  [Inspired, by, actual, events,, a, group, of, ...  \n",
       "1  [Tom, (Joseph, Gordon-Levitt),, greeting-card,...  \n",
       "2  [After, a, car, accident,, Michelle, awakens, ...  \n",
       "3  [Nellie, Bly,, a, 23, year-old, reporter, for,...  \n",
       "4  [Bianca,, a, tenth, grader,, has, never, gone,...  "
      ]
     },
     "execution_count": 43,
     "metadata": {},
     "output_type": "execute_result"
    }
   ],
   "source": [
    "movies.head()"
   ]
  },
  {
   "cell_type": "code",
   "execution_count": 44,
   "id": "5346e30c-2a57-46ab-8f46-0f7e3d41d7b8",
   "metadata": {},
   "outputs": [],
   "source": [
    "new_df = movies[['movie_id','title','tags']]"
   ]
  },
  {
   "cell_type": "code",
   "execution_count": 45,
   "id": "c17b0f73-9d66-4a54-9680-34ca69ea1895",
   "metadata": {},
   "outputs": [
    {
     "data": {
      "text/html": [
       "<div>\n",
       "<style scoped>\n",
       "    .dataframe tbody tr th:only-of-type {\n",
       "        vertical-align: middle;\n",
       "    }\n",
       "\n",
       "    .dataframe tbody tr th {\n",
       "        vertical-align: top;\n",
       "    }\n",
       "\n",
       "    .dataframe thead th {\n",
       "        text-align: right;\n",
       "    }\n",
       "</style>\n",
       "<table border=\"1\" class=\"dataframe\">\n",
       "  <thead>\n",
       "    <tr style=\"text-align: right;\">\n",
       "      <th></th>\n",
       "      <th>movie_id</th>\n",
       "      <th>title</th>\n",
       "      <th>tags</th>\n",
       "    </tr>\n",
       "  </thead>\n",
       "  <tbody>\n",
       "    <tr>\n",
       "      <th>0</th>\n",
       "      <td>301325</td>\n",
       "      <td>#Horror</td>\n",
       "      <td>[Inspired, by, actual, events,, a, group, of, ...</td>\n",
       "    </tr>\n",
       "    <tr>\n",
       "      <th>1</th>\n",
       "      <td>19913</td>\n",
       "      <td>(500) Days of Summer</td>\n",
       "      <td>[Tom, (Joseph, Gordon-Levitt),, greeting-card,...</td>\n",
       "    </tr>\n",
       "    <tr>\n",
       "      <th>2</th>\n",
       "      <td>333371</td>\n",
       "      <td>10 Cloverfield Lane</td>\n",
       "      <td>[After, a, car, accident,, Michelle, awakens, ...</td>\n",
       "    </tr>\n",
       "    <tr>\n",
       "      <th>3</th>\n",
       "      <td>345003</td>\n",
       "      <td>10 Days in a Madhouse</td>\n",
       "      <td>[Nellie, Bly,, a, 23, year-old, reporter, for,...</td>\n",
       "    </tr>\n",
       "    <tr>\n",
       "      <th>4</th>\n",
       "      <td>4951</td>\n",
       "      <td>10 Things I Hate About You</td>\n",
       "      <td>[Bianca,, a, tenth, grader,, has, never, gone,...</td>\n",
       "    </tr>\n",
       "  </tbody>\n",
       "</table>\n",
       "</div>"
      ],
      "text/plain": [
       "   movie_id                       title  \\\n",
       "0    301325                     #Horror   \n",
       "1     19913        (500) Days of Summer   \n",
       "2    333371         10 Cloverfield Lane   \n",
       "3    345003       10 Days in a Madhouse   \n",
       "4      4951  10 Things I Hate About You   \n",
       "\n",
       "                                                tags  \n",
       "0  [Inspired, by, actual, events,, a, group, of, ...  \n",
       "1  [Tom, (Joseph, Gordon-Levitt),, greeting-card,...  \n",
       "2  [After, a, car, accident,, Michelle, awakens, ...  \n",
       "3  [Nellie, Bly,, a, 23, year-old, reporter, for,...  \n",
       "4  [Bianca,, a, tenth, grader,, has, never, gone,...  "
      ]
     },
     "execution_count": 45,
     "metadata": {},
     "output_type": "execute_result"
    }
   ],
   "source": [
    "new_df.head()"
   ]
  },
  {
   "cell_type": "code",
   "execution_count": 46,
   "id": "659bfe43-595d-48f7-8fcc-c9f480d3e987",
   "metadata": {},
   "outputs": [
    {
     "name": "stderr",
     "output_type": "stream",
     "text": [
      "C:\\Users\\HP\\AppData\\Local\\Temp\\ipykernel_20328\\1824047427.py:1: SettingWithCopyWarning: \n",
      "A value is trying to be set on a copy of a slice from a DataFrame.\n",
      "Try using .loc[row_indexer,col_indexer] = value instead\n",
      "\n",
      "See the caveats in the documentation: https://pandas.pydata.org/pandas-docs/stable/user_guide/indexing.html#returning-a-view-versus-a-copy\n",
      "  new_df['tags'] = new_df['tags'].apply(lambda x: \" \".join(x))\n"
     ]
    }
   ],
   "source": [
    "new_df['tags'] = new_df['tags'].apply(lambda x: \" \".join(x))"
   ]
  },
  {
   "cell_type": "code",
   "execution_count": 47,
   "id": "57d4b875-3846-4be9-853b-00d9d68748e0",
   "metadata": {},
   "outputs": [
    {
     "data": {
      "text/html": [
       "<div>\n",
       "<style scoped>\n",
       "    .dataframe tbody tr th:only-of-type {\n",
       "        vertical-align: middle;\n",
       "    }\n",
       "\n",
       "    .dataframe tbody tr th {\n",
       "        vertical-align: top;\n",
       "    }\n",
       "\n",
       "    .dataframe thead th {\n",
       "        text-align: right;\n",
       "    }\n",
       "</style>\n",
       "<table border=\"1\" class=\"dataframe\">\n",
       "  <thead>\n",
       "    <tr style=\"text-align: right;\">\n",
       "      <th></th>\n",
       "      <th>movie_id</th>\n",
       "      <th>title</th>\n",
       "      <th>tags</th>\n",
       "    </tr>\n",
       "  </thead>\n",
       "  <tbody>\n",
       "    <tr>\n",
       "      <th>0</th>\n",
       "      <td>301325</td>\n",
       "      <td>#Horror</td>\n",
       "      <td>Inspired by actual events, a group of 12 year ...</td>\n",
       "    </tr>\n",
       "    <tr>\n",
       "      <th>1</th>\n",
       "      <td>19913</td>\n",
       "      <td>(500) Days of Summer</td>\n",
       "      <td>Tom (Joseph Gordon-Levitt), greeting-card writ...</td>\n",
       "    </tr>\n",
       "    <tr>\n",
       "      <th>2</th>\n",
       "      <td>333371</td>\n",
       "      <td>10 Cloverfield Lane</td>\n",
       "      <td>After a car accident, Michelle awakens to find...</td>\n",
       "    </tr>\n",
       "    <tr>\n",
       "      <th>3</th>\n",
       "      <td>345003</td>\n",
       "      <td>10 Days in a Madhouse</td>\n",
       "      <td>Nellie Bly, a 23 year-old reporter for Joseph ...</td>\n",
       "    </tr>\n",
       "    <tr>\n",
       "      <th>4</th>\n",
       "      <td>4951</td>\n",
       "      <td>10 Things I Hate About You</td>\n",
       "      <td>Bianca, a tenth grader, has never gone on a da...</td>\n",
       "    </tr>\n",
       "  </tbody>\n",
       "</table>\n",
       "</div>"
      ],
      "text/plain": [
       "   movie_id                       title  \\\n",
       "0    301325                     #Horror   \n",
       "1     19913        (500) Days of Summer   \n",
       "2    333371         10 Cloverfield Lane   \n",
       "3    345003       10 Days in a Madhouse   \n",
       "4      4951  10 Things I Hate About You   \n",
       "\n",
       "                                                tags  \n",
       "0  Inspired by actual events, a group of 12 year ...  \n",
       "1  Tom (Joseph Gordon-Levitt), greeting-card writ...  \n",
       "2  After a car accident, Michelle awakens to find...  \n",
       "3  Nellie Bly, a 23 year-old reporter for Joseph ...  \n",
       "4  Bianca, a tenth grader, has never gone on a da...  "
      ]
     },
     "execution_count": 47,
     "metadata": {},
     "output_type": "execute_result"
    }
   ],
   "source": [
    "new_df.head()"
   ]
  },
  {
   "cell_type": "code",
   "execution_count": 48,
   "id": "b0755218-d1a7-420a-994c-3cd672a052ff",
   "metadata": {},
   "outputs": [
    {
     "data": {
      "text/plain": [
       "'Inspired by actual events, a group of 12 year old girls face a night of horror when the compulsive addiction of an online social media game turns a moment of cyber bullying into a night of insanity. Drama Mystery Horror Thriller TarynManning NatashaLyonne ChloëSevigny TaraSubkoff'"
      ]
     },
     "execution_count": 48,
     "metadata": {},
     "output_type": "execute_result"
    }
   ],
   "source": [
    "new_df.iloc[0]['tags']"
   ]
  },
  {
   "cell_type": "code",
   "execution_count": 49,
   "id": "435c3ef0-f755-43df-983a-d1eb272e9605",
   "metadata": {},
   "outputs": [
    {
     "name": "stderr",
     "output_type": "stream",
     "text": [
      "C:\\Users\\HP\\AppData\\Local\\Temp\\ipykernel_20328\\3744629507.py:1: SettingWithCopyWarning: \n",
      "A value is trying to be set on a copy of a slice from a DataFrame.\n",
      "Try using .loc[row_indexer,col_indexer] = value instead\n",
      "\n",
      "See the caveats in the documentation: https://pandas.pydata.org/pandas-docs/stable/user_guide/indexing.html#returning-a-view-versus-a-copy\n",
      "  new_df['tags'] = new_df['tags'].apply(lambda x:x.lower())\n"
     ]
    },
    {
     "data": {
      "text/html": [
       "<div>\n",
       "<style scoped>\n",
       "    .dataframe tbody tr th:only-of-type {\n",
       "        vertical-align: middle;\n",
       "    }\n",
       "\n",
       "    .dataframe tbody tr th {\n",
       "        vertical-align: top;\n",
       "    }\n",
       "\n",
       "    .dataframe thead th {\n",
       "        text-align: right;\n",
       "    }\n",
       "</style>\n",
       "<table border=\"1\" class=\"dataframe\">\n",
       "  <thead>\n",
       "    <tr style=\"text-align: right;\">\n",
       "      <th></th>\n",
       "      <th>movie_id</th>\n",
       "      <th>title</th>\n",
       "      <th>tags</th>\n",
       "    </tr>\n",
       "  </thead>\n",
       "  <tbody>\n",
       "    <tr>\n",
       "      <th>0</th>\n",
       "      <td>301325</td>\n",
       "      <td>#Horror</td>\n",
       "      <td>inspired by actual events, a group of 12 year ...</td>\n",
       "    </tr>\n",
       "    <tr>\n",
       "      <th>1</th>\n",
       "      <td>19913</td>\n",
       "      <td>(500) Days of Summer</td>\n",
       "      <td>tom (joseph gordon-levitt), greeting-card writ...</td>\n",
       "    </tr>\n",
       "  </tbody>\n",
       "</table>\n",
       "</div>"
      ],
      "text/plain": [
       "   movie_id                 title  \\\n",
       "0    301325               #Horror   \n",
       "1     19913  (500) Days of Summer   \n",
       "\n",
       "                                                tags  \n",
       "0  inspired by actual events, a group of 12 year ...  \n",
       "1  tom (joseph gordon-levitt), greeting-card writ...  "
      ]
     },
     "execution_count": 49,
     "metadata": {},
     "output_type": "execute_result"
    }
   ],
   "source": [
    "new_df['tags'] = new_df['tags'].apply(lambda x:x.lower())\n",
    "new_df.head(2)"
   ]
  },
  {
   "cell_type": "code",
   "execution_count": 50,
   "id": "b9c4f211-861f-4cdc-90c4-91c91cf3441e",
   "metadata": {},
   "outputs": [
    {
     "data": {
      "text/plain": [
       "'inspired by actual events, a group of 12 year old girls face a night of horror when the compulsive addiction of an online social media game turns a moment of cyber bullying into a night of insanity. drama mystery horror thriller tarynmanning natashalyonne chloësevigny tarasubkoff'"
      ]
     },
     "execution_count": 50,
     "metadata": {},
     "output_type": "execute_result"
    }
   ],
   "source": [
    "new_df.iloc[0]['tags']"
   ]
  },
  {
   "cell_type": "code",
   "execution_count": 51,
   "id": "f8d189b6-9638-40fc-bdab-77606e59b61d",
   "metadata": {},
   "outputs": [
    {
     "name": "stdout",
     "output_type": "stream",
     "text": [
      "Requirement already satisfied: nltk in c:\\users\\hp\\appdata\\local\\programs\\python\\python311\\lib\\site-packages (3.9.1)\n",
      "Requirement already satisfied: click in c:\\users\\hp\\appdata\\local\\programs\\python\\python311\\lib\\site-packages (from nltk) (8.1.8)\n",
      "Requirement already satisfied: joblib in c:\\users\\hp\\appdata\\local\\programs\\python\\python311\\lib\\site-packages (from nltk) (1.4.2)\n",
      "Requirement already satisfied: regex>=2021.8.3 in c:\\users\\hp\\appdata\\local\\programs\\python\\python311\\lib\\site-packages (from nltk) (2024.11.6)\n",
      "Requirement already satisfied: tqdm in c:\\users\\hp\\appdata\\local\\programs\\python\\python311\\lib\\site-packages (from nltk) (4.67.1)\n",
      "Requirement already satisfied: colorama in c:\\users\\hp\\appdata\\local\\programs\\python\\python311\\lib\\site-packages (from click->nltk) (0.4.6)\n",
      "Note: you may need to restart the kernel to use updated packages.\n"
     ]
    }
   ],
   "source": [
    "pip install nltk\n"
   ]
  },
  {
   "cell_type": "code",
   "execution_count": 52,
   "id": "2eb3a35a-61e5-4fcf-b1b4-e72dad25f09a",
   "metadata": {},
   "outputs": [],
   "source": [
    "import nltk\n",
    "from nltk.stem import PorterStemmer"
   ]
  },
  {
   "cell_type": "code",
   "execution_count": 53,
   "id": "682469a5-c4b6-462e-a598-6816d90a9432",
   "metadata": {},
   "outputs": [],
   "source": [
    "ps = PorterStemmer()"
   ]
  },
  {
   "cell_type": "code",
   "execution_count": 54,
   "id": "1a2dbaea-3cd6-4953-9bbb-518889fb19f1",
   "metadata": {},
   "outputs": [],
   "source": [
    "def stems(text):\n",
    "    l=[]\n",
    "    for i in text.split():\n",
    "        l.append(ps.stem(i))\n",
    "    return \" \".join(l)"
   ]
  },
  {
   "cell_type": "code",
   "execution_count": 55,
   "id": "88690ee5-f8e4-4f24-b7ee-e60f84cb6ee5",
   "metadata": {},
   "outputs": [
    {
     "name": "stderr",
     "output_type": "stream",
     "text": [
      "C:\\Users\\HP\\AppData\\Local\\Temp\\ipykernel_20328\\1522715013.py:1: SettingWithCopyWarning: \n",
      "A value is trying to be set on a copy of a slice from a DataFrame.\n",
      "Try using .loc[row_indexer,col_indexer] = value instead\n",
      "\n",
      "See the caveats in the documentation: https://pandas.pydata.org/pandas-docs/stable/user_guide/indexing.html#returning-a-view-versus-a-copy\n",
      "  new_df['tags']=new_df['tags'].apply(stems)\n"
     ]
    }
   ],
   "source": [
    "new_df['tags']=new_df['tags'].apply(stems)"
   ]
  },
  {
   "cell_type": "code",
   "execution_count": 56,
   "id": "0e915f7d-242b-4334-9a78-a000b0cfb2d8",
   "metadata": {},
   "outputs": [
    {
     "data": {
      "text/plain": [
       "'inspir by actual events, a group of 12 year old girl face a night of horror when the compuls addict of an onlin social media game turn a moment of cyber bulli into a night of insanity. drama mysteri horror thriller tarynman natashalyonn chloësevigni tarasubkoff'"
      ]
     },
     "execution_count": 56,
     "metadata": {},
     "output_type": "execute_result"
    }
   ],
   "source": [
    "new_df.iloc[0]['tags']"
   ]
  },
  {
   "cell_type": "code",
   "execution_count": 57,
   "id": "2d2074ab-4248-42c5-80e7-8286965df3a5",
   "metadata": {},
   "outputs": [],
   "source": [
    "from sklearn.feature_extraction.text import CountVectorizer\n",
    "\n",
    "cv = CountVectorizer(max_features=5000, stop_words='english')\n"
   ]
  },
  {
   "cell_type": "code",
   "execution_count": 58,
   "id": "aae00400-2493-4b12-81a4-a50d79e6234c",
   "metadata": {},
   "outputs": [],
   "source": [
    "vector = cv.fit_transform(new_df['tags']).toarray()\n"
   ]
  },
  {
   "cell_type": "code",
   "execution_count": 59,
   "id": "60dc9758-7b1b-4760-b26a-21fad2ef36d1",
   "metadata": {},
   "outputs": [
    {
     "data": {
      "text/plain": [
       "array([[0, 0, 0, ..., 0, 0, 0],\n",
       "       [0, 0, 0, ..., 0, 0, 1],\n",
       "       [0, 0, 0, ..., 0, 0, 0],\n",
       "       ...,\n",
       "       [0, 0, 0, ..., 0, 0, 0],\n",
       "       [0, 0, 0, ..., 0, 0, 0],\n",
       "       [0, 0, 0, ..., 0, 0, 0]], dtype=int64)"
      ]
     },
     "execution_count": 59,
     "metadata": {},
     "output_type": "execute_result"
    }
   ],
   "source": [
    "vector"
   ]
  },
  {
   "cell_type": "code",
   "execution_count": 60,
   "id": "921d37c5-b0b4-48ba-b333-3c1ad68b275d",
   "metadata": {},
   "outputs": [
    {
     "data": {
      "text/plain": [
       "(4806, 5000)"
      ]
     },
     "execution_count": 60,
     "metadata": {},
     "output_type": "execute_result"
    }
   ],
   "source": [
    "vector.shape\n"
   ]
  },
  {
   "cell_type": "code",
   "execution_count": 61,
   "id": "9dddac62-58b9-4dce-88e3-deb36fb91705",
   "metadata": {},
   "outputs": [],
   "source": [
    "from sklearn.metrics.pairwise import cosine_similarity\n"
   ]
  },
  {
   "cell_type": "code",
   "execution_count": 62,
   "id": "2e44fc97-1e88-4ece-898c-b167624dbb60",
   "metadata": {},
   "outputs": [],
   "source": [
    "similarity = cosine_similarity(vector)\n"
   ]
  },
  {
   "cell_type": "code",
   "execution_count": 63,
   "id": "3693666a-b847-4093-817f-beb4364dce51",
   "metadata": {},
   "outputs": [
    {
     "data": {
      "text/plain": [
       "array([[1.        , 0.04675246, 0.08728716, ..., 0.03178209, 0.07905694,\n",
       "        0.03001501],\n",
       "       [0.04675246, 1.        , 0.01530333, ..., 0.04457672, 0.01848053,\n",
       "        0.02104913],\n",
       "       [0.08728716, 0.01530333, 1.        , ..., 0.06241878, 0.05175492,\n",
       "        0.09824719],\n",
       "       ...,\n",
       "       [0.03178209, 0.04457672, 0.06241878, ..., 1.        , 0.17588162,\n",
       "        0.20032733],\n",
       "       [0.07905694, 0.01848053, 0.05175492, ..., 0.17588162, 1.        ,\n",
       "        0.0474579 ],\n",
       "       [0.03001501, 0.02104913, 0.09824719, ..., 0.20032733, 0.0474579 ,\n",
       "        1.        ]])"
      ]
     },
     "execution_count": 63,
     "metadata": {},
     "output_type": "execute_result"
    }
   ],
   "source": [
    "similarity"
   ]
  },
  {
   "cell_type": "code",
   "execution_count": 64,
   "id": "498c82c2-622a-46c4-b652-4fb83d0cc32a",
   "metadata": {},
   "outputs": [
    {
     "data": {
      "text/plain": [
       "(4806, 4806)"
      ]
     },
     "execution_count": 64,
     "metadata": {},
     "output_type": "execute_result"
    }
   ],
   "source": [
    "similarity.shape"
   ]
  },
  {
   "cell_type": "code",
   "execution_count": 65,
   "id": "953974eb-ead1-4625-930d-f8c65a817a0a",
   "metadata": {},
   "outputs": [
    {
     "data": {
      "text/plain": [
       "3197"
      ]
     },
     "execution_count": 65,
     "metadata": {},
     "output_type": "execute_result"
    }
   ],
   "source": [
    "new_df[new_df['title'] == 'Spider-Man'].index[0]\n"
   ]
  },
  {
   "cell_type": "code",
   "execution_count": 66,
   "id": "e0fb9d5b-97f4-4638-a4ca-65339195c0a2",
   "metadata": {},
   "outputs": [],
   "source": [
    "def recommend(movie):\n",
    "    index = new_df[new_df['title'] == movie].index[0]  # Get index of the movie\n",
    "    distances = sorted(list(enumerate(similarity[index])), reverse=True, key=lambda x: x[1])  # Sort by similarity\n",
    "    for i in distances[1:6]:  # Skip the first one (itself)\n",
    "        print(new_df.iloc[i[0]].title)  # Access title correctly\n"
   ]
  },
  {
   "cell_type": "code",
   "execution_count": 68,
   "id": "ddf4f46b-c6e2-401f-87b3-df8d74fe440f",
   "metadata": {},
   "outputs": [
    {
     "name": "stdout",
     "output_type": "stream",
     "text": [
      "Aliens vs Predator: Requiem\n",
      "Aliens\n",
      "Falcon Rising\n",
      "Independence Day\n",
      "Titan A.E.\n"
     ]
    }
   ],
   "source": [
    "recommend('Avatar')"
   ]
  },
  {
   "cell_type": "code",
   "execution_count": 76,
   "id": "c068b03c-e2cf-4f28-9037-d46f9fc18dd9",
   "metadata": {},
   "outputs": [],
   "source": [
    "import pickle\n",
    "import os\n",
    "\n",
    "# Create the folder if it doesn't exist\n",
    "os.makedirs('artifacts', exist_ok=True)\n",
    "\n",
    "# Save the DataFrame\n",
    "with open('artifacts/movie_list.pkl', 'wb') as f:\n",
    "    pickle.dump(new_df, f)\n",
    "\n",
    "# Save the similarity matrix\n",
    "with open('artifacts/similarity.pkl', 'wb') as f:\n",
    "    pickle.dump(similarity, f)\n"
   ]
  },
  {
   "cell_type": "code",
   "execution_count": 77,
   "id": "d59fbe8d-9ad6-44ff-866e-80e0dc7839db",
   "metadata": {},
   "outputs": [],
   "source": [
    "import pickle\n",
    "\n",
    "# Load the movie list\n",
    "with open('artifacts/movie_list.pkl', 'rb') as f:\n",
    "    new_df = pickle.load(f)\n",
    "\n",
    "# Load the similarity matrix\n",
    "with open('artifacts/similarity.pkl', 'rb') as f:\n",
    "    similarity = pickle.load(f)\n"
   ]
  },
  {
   "cell_type": "code",
   "execution_count": 78,
   "id": "e1c846ed-7bb8-4d28-be52-7754cb4f3984",
   "metadata": {},
   "outputs": [
    {
     "name": "stdout",
     "output_type": "stream",
     "text": [
      "['movie_list.pkl', 'similarity.pkl']\n"
     ]
    }
   ],
   "source": [
    "import os\n",
    "\n",
    "# List all files in the 'artifacts' folder\n",
    "print(os.listdir(\"artifacts\"))\n"
   ]
  },
  {
   "cell_type": "code",
   "execution_count": null,
   "id": "ff6401c3-741b-4d0e-b1cf-4a7ed407973d",
   "metadata": {},
   "outputs": [],
   "source": []
  }
 ],
 "metadata": {
  "kernelspec": {
   "display_name": "Python 3 (ipykernel)",
   "language": "python",
   "name": "python3"
  },
  "language_info": {
   "codemirror_mode": {
    "name": "ipython",
    "version": 3
   },
   "file_extension": ".py",
   "mimetype": "text/x-python",
   "name": "python",
   "nbconvert_exporter": "python",
   "pygments_lexer": "ipython3",
   "version": "3.11.2"
  },
  "widgets": {
   "application/vnd.jupyter.widget-state+json": {
    "state": {},
    "version_major": 2,
    "version_minor": 0
   }
  }
 },
 "nbformat": 4,
 "nbformat_minor": 5
}
